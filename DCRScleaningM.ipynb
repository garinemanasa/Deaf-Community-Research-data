{
 "cells": [
  {
   "cell_type": "code",
   "execution_count": 1,
   "id": "e45a636e-2bcc-4b60-be87-64619a59ae03",
   "metadata": {
    "tags": []
   },
   "outputs": [
    {
     "name": "stdout",
     "output_type": "stream",
     "text": [
      "Welcome to DRCS project\n"
     ]
    }
   ],
   "source": [
    "print('Welcome to DRCS project')"
   ]
  },
  {
   "cell_type": "code",
   "execution_count": 61,
   "id": "482f5baa-0a15-4306-853f-e030083428bd",
   "metadata": {
    "tags": []
   },
   "outputs": [],
   "source": [
    "import pandas as pd\n",
    "import seaborn as sns\n",
    "import matplotlib.pyplot as plt\n",
    "import numpy as np\n",
    "from datetime import datetime, date\n",
    "\n"
   ]
  },
  {
   "cell_type": "code",
   "execution_count": 62,
   "id": "e494d521-ae62-4151-af65-6e5e7ecc498d",
   "metadata": {
    "tags": []
   },
   "outputs": [],
   "source": [
    "#Reading the Dataset\n",
    "df = pd.read_csv(r\"Deaf Community Research data csv.csv\")"
   ]
  },
  {
   "cell_type": "code",
   "execution_count": 63,
   "id": "64d1a1b4-9e04-4c73-9210-38fe6284b4b2",
   "metadata": {
    "tags": []
   },
   "outputs": [
    {
     "data": {
      "text/html": [
       "<div>\n",
       "<style scoped>\n",
       "    .dataframe tbody tr th:only-of-type {\n",
       "        vertical-align: middle;\n",
       "    }\n",
       "\n",
       "    .dataframe tbody tr th {\n",
       "        vertical-align: top;\n",
       "    }\n",
       "\n",
       "    .dataframe thead th {\n",
       "        text-align: right;\n",
       "    }\n",
       "</style>\n",
       "<table border=\"1\" class=\"dataframe\">\n",
       "  <thead>\n",
       "    <tr style=\"text-align: right;\">\n",
       "      <th></th>\n",
       "      <th>Response ID</th>\n",
       "      <th>Languages you use comfortably</th>\n",
       "      <th>What is your date of birth?</th>\n",
       "      <th>Best contact method for communication</th>\n",
       "      <th>Which tribal affiliation do you identify with?</th>\n",
       "      <th>Which religion do you follow?</th>\n",
       "      <th>Sex</th>\n",
       "      <th>Do you identify as queer, gay, bisexual, lesbian, transgender, or asexual?</th>\n",
       "      <th>Describe your relationship status</th>\n",
       "      <th>Is your partner deaf?</th>\n",
       "      <th>...</th>\n",
       "      <th>How satisfied are you with your health?</th>\n",
       "      <th>Can you independently decide what you need for your health?</th>\n",
       "      <th>Are there enough interpreters?</th>\n",
       "      <th>Are interpreters qualified and clear?</th>\n",
       "      <th>Do you trust interpreters to work with you?</th>\n",
       "      <th>Do you feel that filling out a form to make a complaint about lack of accommodation service is helpful?</th>\n",
       "      <th>In a crisis like natural disasters or disease, are you confident about accessing necessary information and communication?</th>\n",
       "      <th>In a crisis like natural disasters or disease, where do you get necessary information and communication?</th>\n",
       "      <th>Throughout your lifetime, how often have you felt discriminated against by others because you are deaf?</th>\n",
       "      <th>How do you communicate with your family members?</th>\n",
       "    </tr>\n",
       "  </thead>\n",
       "  <tbody>\n",
       "    <tr>\n",
       "      <th>0</th>\n",
       "      <td>120201899</td>\n",
       "      <td>sign language</td>\n",
       "      <td>12/09/1997</td>\n",
       "      <td>facebook and whatsapp</td>\n",
       "      <td>margi</td>\n",
       "      <td>Christianity</td>\n",
       "      <td>Female</td>\n",
       "      <td>No</td>\n",
       "      <td>Single</td>\n",
       "      <td>NaN</td>\n",
       "      <td>...</td>\n",
       "      <td>Satisfied</td>\n",
       "      <td>Always</td>\n",
       "      <td>Yes</td>\n",
       "      <td>Not at all</td>\n",
       "      <td>Not at all</td>\n",
       "      <td>Yes</td>\n",
       "      <td>Not at all</td>\n",
       "      <td>sign language</td>\n",
       "      <td>Not at all</td>\n",
       "      <td>yes</td>\n",
       "    </tr>\n",
       "    <tr>\n",
       "      <th>1</th>\n",
       "      <td>120201670</td>\n",
       "      <td>sign language</td>\n",
       "      <td>05/17/1996</td>\n",
       "      <td>NaN</td>\n",
       "      <td>NaN</td>\n",
       "      <td>Christianity</td>\n",
       "      <td>Male</td>\n",
       "      <td>No</td>\n",
       "      <td>Married</td>\n",
       "      <td>NaN</td>\n",
       "      <td>...</td>\n",
       "      <td>Neither satisfied nor dissatisfied</td>\n",
       "      <td>Sometimes</td>\n",
       "      <td>Yes</td>\n",
       "      <td>Somewhat</td>\n",
       "      <td>Somewhat</td>\n",
       "      <td>Yes</td>\n",
       "      <td>Not at all</td>\n",
       "      <td>NaN</td>\n",
       "      <td>All of the time</td>\n",
       "      <td>sign language</td>\n",
       "    </tr>\n",
       "    <tr>\n",
       "      <th>2</th>\n",
       "      <td>120201499</td>\n",
       "      <td>English language</td>\n",
       "      <td>NaN</td>\n",
       "      <td>telecommunication and message phone</td>\n",
       "      <td>am affliated to deaf and dumb</td>\n",
       "      <td>NaN</td>\n",
       "      <td>Male</td>\n",
       "      <td>No</td>\n",
       "      <td>Married</td>\n",
       "      <td>Yes</td>\n",
       "      <td>...</td>\n",
       "      <td>Fairly dissatisfied</td>\n",
       "      <td>Never</td>\n",
       "      <td>Yes</td>\n",
       "      <td>To a great extent</td>\n",
       "      <td>To a great extent</td>\n",
       "      <td>Yes</td>\n",
       "      <td>Slightly</td>\n",
       "      <td>through my son</td>\n",
       "      <td>A fair amount of the time</td>\n",
       "      <td>sign language</td>\n",
       "    </tr>\n",
       "    <tr>\n",
       "      <th>3</th>\n",
       "      <td>120201449</td>\n",
       "      <td>sign language</td>\n",
       "      <td>01/01/1992</td>\n",
       "      <td>message text</td>\n",
       "      <td>Fulani</td>\n",
       "      <td>Islamic</td>\n",
       "      <td>Male</td>\n",
       "      <td>No</td>\n",
       "      <td>Single</td>\n",
       "      <td>NaN</td>\n",
       "      <td>...</td>\n",
       "      <td>Satisfied</td>\n",
       "      <td>Sometimes</td>\n",
       "      <td>Yes</td>\n",
       "      <td>Not at all</td>\n",
       "      <td>Not at all</td>\n",
       "      <td>Yes</td>\n",
       "      <td>Not at all</td>\n",
       "      <td>NaN</td>\n",
       "      <td>Not at all</td>\n",
       "      <td>yes</td>\n",
       "    </tr>\n",
       "    <tr>\n",
       "      <th>4</th>\n",
       "      <td>120201256</td>\n",
       "      <td>sign language</td>\n",
       "      <td>02/28/1998</td>\n",
       "      <td>whatsapp messaging</td>\n",
       "      <td>chamba</td>\n",
       "      <td>islam</td>\n",
       "      <td>Female</td>\n",
       "      <td>No</td>\n",
       "      <td>Single</td>\n",
       "      <td>NaN</td>\n",
       "      <td>...</td>\n",
       "      <td>Satisfied</td>\n",
       "      <td>Sometimes</td>\n",
       "      <td>Yes</td>\n",
       "      <td>Not at all</td>\n",
       "      <td>Not at all</td>\n",
       "      <td>Yes</td>\n",
       "      <td>Not at all</td>\n",
       "      <td>NaN</td>\n",
       "      <td>Not at all</td>\n",
       "      <td>yes</td>\n",
       "    </tr>\n",
       "    <tr>\n",
       "      <th>...</th>\n",
       "      <td>...</td>\n",
       "      <td>...</td>\n",
       "      <td>...</td>\n",
       "      <td>...</td>\n",
       "      <td>...</td>\n",
       "      <td>...</td>\n",
       "      <td>...</td>\n",
       "      <td>...</td>\n",
       "      <td>...</td>\n",
       "      <td>...</td>\n",
       "      <td>...</td>\n",
       "      <td>...</td>\n",
       "      <td>...</td>\n",
       "      <td>...</td>\n",
       "      <td>...</td>\n",
       "      <td>...</td>\n",
       "      <td>...</td>\n",
       "      <td>...</td>\n",
       "      <td>...</td>\n",
       "      <td>...</td>\n",
       "      <td>...</td>\n",
       "    </tr>\n",
       "    <tr>\n",
       "      <th>226</th>\n",
       "      <td>118261473</td>\n",
       "      <td>NaN</td>\n",
       "      <td>10/18/1972</td>\n",
       "      <td>Sign language</td>\n",
       "      <td>Yoruba tribal</td>\n",
       "      <td>Christianity</td>\n",
       "      <td>Female</td>\n",
       "      <td>No</td>\n",
       "      <td>Widowed</td>\n",
       "      <td>Yes</td>\n",
       "      <td>...</td>\n",
       "      <td>NaN</td>\n",
       "      <td>NaN</td>\n",
       "      <td>NaN</td>\n",
       "      <td>NaN</td>\n",
       "      <td>NaN</td>\n",
       "      <td>NaN</td>\n",
       "      <td>NaN</td>\n",
       "      <td>NaN</td>\n",
       "      <td>NaN</td>\n",
       "      <td>NaN</td>\n",
       "    </tr>\n",
       "    <tr>\n",
       "      <th>227</th>\n",
       "      <td>118261456</td>\n",
       "      <td>English</td>\n",
       "      <td>08/01/1972</td>\n",
       "      <td>NaN</td>\n",
       "      <td>NaN</td>\n",
       "      <td>Christianity</td>\n",
       "      <td>Female</td>\n",
       "      <td>No</td>\n",
       "      <td>Single</td>\n",
       "      <td>NaN</td>\n",
       "      <td>...</td>\n",
       "      <td>NaN</td>\n",
       "      <td>NaN</td>\n",
       "      <td>NaN</td>\n",
       "      <td>NaN</td>\n",
       "      <td>NaN</td>\n",
       "      <td>NaN</td>\n",
       "      <td>NaN</td>\n",
       "      <td>NaN</td>\n",
       "      <td>NaN</td>\n",
       "      <td>NaN</td>\n",
       "    </tr>\n",
       "    <tr>\n",
       "      <th>228</th>\n",
       "      <td>118261452</td>\n",
       "      <td>English Yoruba Nigerian Sign Language (NSL)</td>\n",
       "      <td>05/07/1984</td>\n",
       "      <td>E-mail and SMS</td>\n",
       "      <td>Yoruba</td>\n",
       "      <td>Christianity</td>\n",
       "      <td>Female</td>\n",
       "      <td>No</td>\n",
       "      <td>Married</td>\n",
       "      <td>Yes</td>\n",
       "      <td>...</td>\n",
       "      <td>NaN</td>\n",
       "      <td>NaN</td>\n",
       "      <td>NaN</td>\n",
       "      <td>NaN</td>\n",
       "      <td>NaN</td>\n",
       "      <td>NaN</td>\n",
       "      <td>NaN</td>\n",
       "      <td>NaN</td>\n",
       "      <td>NaN</td>\n",
       "      <td>NaN</td>\n",
       "    </tr>\n",
       "    <tr>\n",
       "      <th>229</th>\n",
       "      <td>118261427</td>\n",
       "      <td>English</td>\n",
       "      <td>01/04/1999</td>\n",
       "      <td>English</td>\n",
       "      <td>Hausa</td>\n",
       "      <td>Islam</td>\n",
       "      <td>Female</td>\n",
       "      <td>No</td>\n",
       "      <td>Single</td>\n",
       "      <td>Yes</td>\n",
       "      <td>...</td>\n",
       "      <td>NaN</td>\n",
       "      <td>NaN</td>\n",
       "      <td>NaN</td>\n",
       "      <td>NaN</td>\n",
       "      <td>NaN</td>\n",
       "      <td>NaN</td>\n",
       "      <td>NaN</td>\n",
       "      <td>NaN</td>\n",
       "      <td>NaN</td>\n",
       "      <td>NaN</td>\n",
       "    </tr>\n",
       "    <tr>\n",
       "      <th>230</th>\n",
       "      <td>118167952</td>\n",
       "      <td>Sign Language</td>\n",
       "      <td>09/16/1986</td>\n",
       "      <td>WhatsApp</td>\n",
       "      <td>Fulani</td>\n",
       "      <td>Islam</td>\n",
       "      <td>Male</td>\n",
       "      <td>No</td>\n",
       "      <td>Married</td>\n",
       "      <td>No</td>\n",
       "      <td>...</td>\n",
       "      <td>Very satisfied</td>\n",
       "      <td>Always</td>\n",
       "      <td>No</td>\n",
       "      <td>Not at all</td>\n",
       "      <td>Not at all</td>\n",
       "      <td>No</td>\n",
       "      <td>Not at all</td>\n",
       "      <td>Social Media</td>\n",
       "      <td>All of the time</td>\n",
       "      <td>gesturing, writing, and signing</td>\n",
       "    </tr>\n",
       "  </tbody>\n",
       "</table>\n",
       "<p>231 rows × 108 columns</p>\n",
       "</div>"
      ],
      "text/plain": [
       "     Response ID                Languages you use comfortably  \\\n",
       "0      120201899                                sign language   \n",
       "1      120201670                                sign language   \n",
       "2      120201499                             English language   \n",
       "3      120201449                                sign language   \n",
       "4      120201256                                sign language   \n",
       "..           ...                                          ...   \n",
       "226    118261473                                          NaN   \n",
       "227    118261456                                      English   \n",
       "228    118261452  English Yoruba Nigerian Sign Language (NSL)   \n",
       "229    118261427                                      English   \n",
       "230    118167952                                Sign Language   \n",
       "\n",
       "    What is your date of birth? Best contact method for communication  \\\n",
       "0                    12/09/1997                 facebook and whatsapp   \n",
       "1                    05/17/1996                                   NaN   \n",
       "2                           NaN   telecommunication and message phone   \n",
       "3                    01/01/1992                          message text   \n",
       "4                    02/28/1998                    whatsapp messaging   \n",
       "..                          ...                                   ...   \n",
       "226                  10/18/1972                         Sign language   \n",
       "227                  08/01/1972                                   NaN   \n",
       "228                  05/07/1984                        E-mail and SMS   \n",
       "229                  01/04/1999                               English   \n",
       "230                  09/16/1986                              WhatsApp   \n",
       "\n",
       "    Which tribal affiliation do you identify with?  \\\n",
       "0                                            margi   \n",
       "1                                              NaN   \n",
       "2                    am affliated to deaf and dumb   \n",
       "3                                           Fulani   \n",
       "4                                           chamba   \n",
       "..                                             ...   \n",
       "226                                  Yoruba tribal   \n",
       "227                                            NaN   \n",
       "228                                         Yoruba   \n",
       "229                                          Hausa   \n",
       "230                                         Fulani   \n",
       "\n",
       "    Which religion do you follow?     Sex  \\\n",
       "0                    Christianity  Female   \n",
       "1                    Christianity    Male   \n",
       "2                             NaN    Male   \n",
       "3                         Islamic    Male   \n",
       "4                           islam  Female   \n",
       "..                            ...     ...   \n",
       "226                  Christianity  Female   \n",
       "227                  Christianity  Female   \n",
       "228                  Christianity  Female   \n",
       "229                         Islam  Female   \n",
       "230                         Islam    Male   \n",
       "\n",
       "    Do you identify as queer, gay, bisexual, lesbian, transgender, or asexual?  \\\n",
       "0                                                   No                           \n",
       "1                                                   No                           \n",
       "2                                                   No                           \n",
       "3                                                   No                           \n",
       "4                                                   No                           \n",
       "..                                                 ...                           \n",
       "226                                                 No                           \n",
       "227                                                 No                           \n",
       "228                                                 No                           \n",
       "229                                                 No                           \n",
       "230                                                 No                           \n",
       "\n",
       "    Describe your relationship status Is your partner deaf?  ...  \\\n",
       "0                              Single                   NaN  ...   \n",
       "1                             Married                   NaN  ...   \n",
       "2                             Married                   Yes  ...   \n",
       "3                              Single                   NaN  ...   \n",
       "4                              Single                   NaN  ...   \n",
       "..                                ...                   ...  ...   \n",
       "226                           Widowed                   Yes  ...   \n",
       "227                            Single                   NaN  ...   \n",
       "228                           Married                   Yes  ...   \n",
       "229                            Single                   Yes  ...   \n",
       "230                           Married                    No  ...   \n",
       "\n",
       "    How satisfied are you with your health?  \\\n",
       "0                                 Satisfied   \n",
       "1        Neither satisfied nor dissatisfied   \n",
       "2                       Fairly dissatisfied   \n",
       "3                                 Satisfied   \n",
       "4                                 Satisfied   \n",
       "..                                      ...   \n",
       "226                                     NaN   \n",
       "227                                     NaN   \n",
       "228                                     NaN   \n",
       "229                                     NaN   \n",
       "230                          Very satisfied   \n",
       "\n",
       "    Can you independently decide what you need for your health?  \\\n",
       "0                                               Always            \n",
       "1                                            Sometimes            \n",
       "2                                                Never            \n",
       "3                                            Sometimes            \n",
       "4                                            Sometimes            \n",
       "..                                                 ...            \n",
       "226                                                NaN            \n",
       "227                                                NaN            \n",
       "228                                                NaN            \n",
       "229                                                NaN            \n",
       "230                                             Always            \n",
       "\n",
       "     Are there enough interpreters?  Are interpreters qualified and clear?  \\\n",
       "0                               Yes                             Not at all   \n",
       "1                               Yes                               Somewhat   \n",
       "2                               Yes                      To a great extent   \n",
       "3                               Yes                             Not at all   \n",
       "4                               Yes                             Not at all   \n",
       "..                              ...                                    ...   \n",
       "226                             NaN                                    NaN   \n",
       "227                             NaN                                    NaN   \n",
       "228                             NaN                                    NaN   \n",
       "229                             NaN                                    NaN   \n",
       "230                              No                             Not at all   \n",
       "\n",
       "     Do you trust interpreters to work with you?  \\\n",
       "0                                     Not at all   \n",
       "1                                       Somewhat   \n",
       "2                              To a great extent   \n",
       "3                                     Not at all   \n",
       "4                                     Not at all   \n",
       "..                                           ...   \n",
       "226                                          NaN   \n",
       "227                                          NaN   \n",
       "228                                          NaN   \n",
       "229                                          NaN   \n",
       "230                                   Not at all   \n",
       "\n",
       "    Do you feel that filling out a form to make a complaint about lack of accommodation service is helpful?  \\\n",
       "0                                                  Yes                                                        \n",
       "1                                                  Yes                                                        \n",
       "2                                                  Yes                                                        \n",
       "3                                                  Yes                                                        \n",
       "4                                                  Yes                                                        \n",
       "..                                                 ...                                                        \n",
       "226                                                NaN                                                        \n",
       "227                                                NaN                                                        \n",
       "228                                                NaN                                                        \n",
       "229                                                NaN                                                        \n",
       "230                                                 No                                                        \n",
       "\n",
       "     In a crisis like natural disasters or disease, are you confident about accessing necessary information and communication?  \\\n",
       "0                                           Not at all                                                                           \n",
       "1                                           Not at all                                                                           \n",
       "2                                             Slightly                                                                           \n",
       "3                                           Not at all                                                                           \n",
       "4                                           Not at all                                                                           \n",
       "..                                                 ...                                                                           \n",
       "226                                                NaN                                                                           \n",
       "227                                                NaN                                                                           \n",
       "228                                                NaN                                                                           \n",
       "229                                                NaN                                                                           \n",
       "230                                         Not at all                                                                           \n",
       "\n",
       "    In a crisis like natural disasters or disease, where do you get necessary information and communication?  \\\n",
       "0                                        sign language                                                         \n",
       "1                                                  NaN                                                         \n",
       "2                                       through my son                                                         \n",
       "3                                                  NaN                                                         \n",
       "4                                                  NaN                                                         \n",
       "..                                                 ...                                                         \n",
       "226                                                NaN                                                         \n",
       "227                                                NaN                                                         \n",
       "228                                                NaN                                                         \n",
       "229                                                NaN                                                         \n",
       "230                                       Social Media                                                         \n",
       "\n",
       "    Throughout your lifetime, how often have you felt discriminated against by others because you are deaf?  \\\n",
       "0                                           Not at all                                                        \n",
       "1                                      All of the time                                                        \n",
       "2                            A fair amount of the time                                                        \n",
       "3                                           Not at all                                                        \n",
       "4                                           Not at all                                                        \n",
       "..                                                 ...                                                        \n",
       "226                                                NaN                                                        \n",
       "227                                                NaN                                                        \n",
       "228                                                NaN                                                        \n",
       "229                                                NaN                                                        \n",
       "230                                    All of the time                                                        \n",
       "\n",
       "    How do you communicate with your family members?  \n",
       "0                                                yes  \n",
       "1                                      sign language  \n",
       "2                                      sign language  \n",
       "3                                                yes  \n",
       "4                                                yes  \n",
       "..                                               ...  \n",
       "226                                              NaN  \n",
       "227                                              NaN  \n",
       "228                                              NaN  \n",
       "229                                              NaN  \n",
       "230                  gesturing, writing, and signing  \n",
       "\n",
       "[231 rows x 108 columns]"
      ]
     },
     "execution_count": 63,
     "metadata": {},
     "output_type": "execute_result"
    }
   ],
   "source": [
    "df"
   ]
  },
  {
   "cell_type": "code",
   "execution_count": 64,
   "id": "773bad20-4e2f-4f97-87a9-eabdf64bc884",
   "metadata": {
    "tags": []
   },
   "outputs": [
    {
     "data": {
      "text/plain": [
       "(231, 108)"
      ]
     },
     "execution_count": 64,
     "metadata": {},
     "output_type": "execute_result"
    }
   ],
   "source": [
    "df.shape"
   ]
  },
  {
   "cell_type": "code",
   "execution_count": 65,
   "id": "068a86cf-204d-4e1d-871c-d73b40c63857",
   "metadata": {
    "tags": []
   },
   "outputs": [
    {
     "data": {
      "text/html": [
       "<div>\n",
       "<style scoped>\n",
       "    .dataframe tbody tr th:only-of-type {\n",
       "        vertical-align: middle;\n",
       "    }\n",
       "\n",
       "    .dataframe tbody tr th {\n",
       "        vertical-align: top;\n",
       "    }\n",
       "\n",
       "    .dataframe thead th {\n",
       "        text-align: right;\n",
       "    }\n",
       "</style>\n",
       "<table border=\"1\" class=\"dataframe\">\n",
       "  <thead>\n",
       "    <tr style=\"text-align: right;\">\n",
       "      <th></th>\n",
       "      <th>Response ID</th>\n",
       "      <th>Languages you use comfortably</th>\n",
       "      <th>What is your date of birth?</th>\n",
       "      <th>Best contact method for communication</th>\n",
       "      <th>Which tribal affiliation do you identify with?</th>\n",
       "      <th>Which religion do you follow?</th>\n",
       "      <th>Sex</th>\n",
       "      <th>Do you identify as queer, gay, bisexual, lesbian, transgender, or asexual?</th>\n",
       "      <th>Describe your relationship status</th>\n",
       "      <th>Is your partner deaf?</th>\n",
       "      <th>...</th>\n",
       "      <th>How satisfied are you with your health?</th>\n",
       "      <th>Can you independently decide what you need for your health?</th>\n",
       "      <th>Are there enough interpreters?</th>\n",
       "      <th>Are interpreters qualified and clear?</th>\n",
       "      <th>Do you trust interpreters to work with you?</th>\n",
       "      <th>Do you feel that filling out a form to make a complaint about lack of accommodation service is helpful?</th>\n",
       "      <th>In a crisis like natural disasters or disease, are you confident about accessing necessary information and communication?</th>\n",
       "      <th>In a crisis like natural disasters or disease, where do you get necessary information and communication?</th>\n",
       "      <th>Throughout your lifetime, how often have you felt discriminated against by others because you are deaf?</th>\n",
       "      <th>How do you communicate with your family members?</th>\n",
       "    </tr>\n",
       "  </thead>\n",
       "  <tbody>\n",
       "    <tr>\n",
       "      <th>0</th>\n",
       "      <td>120201899</td>\n",
       "      <td>sign language</td>\n",
       "      <td>12/09/1997</td>\n",
       "      <td>facebook and whatsapp</td>\n",
       "      <td>margi</td>\n",
       "      <td>Christianity</td>\n",
       "      <td>Female</td>\n",
       "      <td>No</td>\n",
       "      <td>Single</td>\n",
       "      <td>NaN</td>\n",
       "      <td>...</td>\n",
       "      <td>Satisfied</td>\n",
       "      <td>Always</td>\n",
       "      <td>Yes</td>\n",
       "      <td>Not at all</td>\n",
       "      <td>Not at all</td>\n",
       "      <td>Yes</td>\n",
       "      <td>Not at all</td>\n",
       "      <td>sign language</td>\n",
       "      <td>Not at all</td>\n",
       "      <td>yes</td>\n",
       "    </tr>\n",
       "    <tr>\n",
       "      <th>1</th>\n",
       "      <td>120201670</td>\n",
       "      <td>sign language</td>\n",
       "      <td>05/17/1996</td>\n",
       "      <td>NaN</td>\n",
       "      <td>NaN</td>\n",
       "      <td>Christianity</td>\n",
       "      <td>Male</td>\n",
       "      <td>No</td>\n",
       "      <td>Married</td>\n",
       "      <td>NaN</td>\n",
       "      <td>...</td>\n",
       "      <td>Neither satisfied nor dissatisfied</td>\n",
       "      <td>Sometimes</td>\n",
       "      <td>Yes</td>\n",
       "      <td>Somewhat</td>\n",
       "      <td>Somewhat</td>\n",
       "      <td>Yes</td>\n",
       "      <td>Not at all</td>\n",
       "      <td>NaN</td>\n",
       "      <td>All of the time</td>\n",
       "      <td>sign language</td>\n",
       "    </tr>\n",
       "    <tr>\n",
       "      <th>2</th>\n",
       "      <td>120201499</td>\n",
       "      <td>English language</td>\n",
       "      <td>NaN</td>\n",
       "      <td>telecommunication and message phone</td>\n",
       "      <td>am affliated to deaf and dumb</td>\n",
       "      <td>NaN</td>\n",
       "      <td>Male</td>\n",
       "      <td>No</td>\n",
       "      <td>Married</td>\n",
       "      <td>Yes</td>\n",
       "      <td>...</td>\n",
       "      <td>Fairly dissatisfied</td>\n",
       "      <td>Never</td>\n",
       "      <td>Yes</td>\n",
       "      <td>To a great extent</td>\n",
       "      <td>To a great extent</td>\n",
       "      <td>Yes</td>\n",
       "      <td>Slightly</td>\n",
       "      <td>through my son</td>\n",
       "      <td>A fair amount of the time</td>\n",
       "      <td>sign language</td>\n",
       "    </tr>\n",
       "    <tr>\n",
       "      <th>3</th>\n",
       "      <td>120201449</td>\n",
       "      <td>sign language</td>\n",
       "      <td>01/01/1992</td>\n",
       "      <td>message text</td>\n",
       "      <td>Fulani</td>\n",
       "      <td>Islamic</td>\n",
       "      <td>Male</td>\n",
       "      <td>No</td>\n",
       "      <td>Single</td>\n",
       "      <td>NaN</td>\n",
       "      <td>...</td>\n",
       "      <td>Satisfied</td>\n",
       "      <td>Sometimes</td>\n",
       "      <td>Yes</td>\n",
       "      <td>Not at all</td>\n",
       "      <td>Not at all</td>\n",
       "      <td>Yes</td>\n",
       "      <td>Not at all</td>\n",
       "      <td>NaN</td>\n",
       "      <td>Not at all</td>\n",
       "      <td>yes</td>\n",
       "    </tr>\n",
       "    <tr>\n",
       "      <th>4</th>\n",
       "      <td>120201256</td>\n",
       "      <td>sign language</td>\n",
       "      <td>02/28/1998</td>\n",
       "      <td>whatsapp messaging</td>\n",
       "      <td>chamba</td>\n",
       "      <td>islam</td>\n",
       "      <td>Female</td>\n",
       "      <td>No</td>\n",
       "      <td>Single</td>\n",
       "      <td>NaN</td>\n",
       "      <td>...</td>\n",
       "      <td>Satisfied</td>\n",
       "      <td>Sometimes</td>\n",
       "      <td>Yes</td>\n",
       "      <td>Not at all</td>\n",
       "      <td>Not at all</td>\n",
       "      <td>Yes</td>\n",
       "      <td>Not at all</td>\n",
       "      <td>NaN</td>\n",
       "      <td>Not at all</td>\n",
       "      <td>yes</td>\n",
       "    </tr>\n",
       "    <tr>\n",
       "      <th>5</th>\n",
       "      <td>120201072</td>\n",
       "      <td>English</td>\n",
       "      <td>11/20/1984</td>\n",
       "      <td>whatsapp, facebook, message and telegram</td>\n",
       "      <td>Igbo</td>\n",
       "      <td>Christianity</td>\n",
       "      <td>Female</td>\n",
       "      <td>No</td>\n",
       "      <td>Married</td>\n",
       "      <td>Yes</td>\n",
       "      <td>...</td>\n",
       "      <td>Fairly dissatisfied</td>\n",
       "      <td>Sometimes</td>\n",
       "      <td>No</td>\n",
       "      <td>Somewhat</td>\n",
       "      <td>Somewhat</td>\n",
       "      <td>Yes</td>\n",
       "      <td>Somewhat</td>\n",
       "      <td>social platforms, newspaper, internet</td>\n",
       "      <td>All of the time</td>\n",
       "      <td>speaking, writing, and gesture</td>\n",
       "    </tr>\n",
       "    <tr>\n",
       "      <th>6</th>\n",
       "      <td>120200548</td>\n",
       "      <td>english</td>\n",
       "      <td>09/30/1996</td>\n",
       "      <td>text</td>\n",
       "      <td>igbo</td>\n",
       "      <td>Christianity</td>\n",
       "      <td>Female</td>\n",
       "      <td>No</td>\n",
       "      <td>Single</td>\n",
       "      <td>NaN</td>\n",
       "      <td>...</td>\n",
       "      <td>Satisfied</td>\n",
       "      <td>Never</td>\n",
       "      <td>No</td>\n",
       "      <td>Not at all</td>\n",
       "      <td>Not at all</td>\n",
       "      <td>Yes</td>\n",
       "      <td>Not at all</td>\n",
       "      <td>my family (using gesturing)</td>\n",
       "      <td>All of the time</td>\n",
       "      <td>gesturing</td>\n",
       "    </tr>\n",
       "    <tr>\n",
       "      <th>7</th>\n",
       "      <td>120200314</td>\n",
       "      <td>NSL</td>\n",
       "      <td>04/05/1985</td>\n",
       "      <td>NSL</td>\n",
       "      <td>mbula</td>\n",
       "      <td>Christianity</td>\n",
       "      <td>Female</td>\n",
       "      <td>No</td>\n",
       "      <td>Single</td>\n",
       "      <td>NaN</td>\n",
       "      <td>...</td>\n",
       "      <td>Fairly dissatisfied</td>\n",
       "      <td>Never</td>\n",
       "      <td>Yes</td>\n",
       "      <td>Not at all</td>\n",
       "      <td>Not at all</td>\n",
       "      <td>No</td>\n",
       "      <td>Not at all</td>\n",
       "      <td>NaN</td>\n",
       "      <td>All of the time</td>\n",
       "      <td>hand/sign language</td>\n",
       "    </tr>\n",
       "    <tr>\n",
       "      <th>8</th>\n",
       "      <td>120200142</td>\n",
       "      <td>English</td>\n",
       "      <td>04/14/1997</td>\n",
       "      <td>text sms</td>\n",
       "      <td>igbo</td>\n",
       "      <td>Christianity</td>\n",
       "      <td>Male</td>\n",
       "      <td>No</td>\n",
       "      <td>Married</td>\n",
       "      <td>Yes</td>\n",
       "      <td>...</td>\n",
       "      <td>Neither satisfied nor dissatisfied</td>\n",
       "      <td>Infrequently</td>\n",
       "      <td>Yes</td>\n",
       "      <td>Not at all</td>\n",
       "      <td>Not at all</td>\n",
       "      <td>Yes</td>\n",
       "      <td>Not at all</td>\n",
       "      <td>newspaper</td>\n",
       "      <td>Not at all</td>\n",
       "      <td>NaN</td>\n",
       "    </tr>\n",
       "    <tr>\n",
       "      <th>9</th>\n",
       "      <td>120187671</td>\n",
       "      <td>NaN</td>\n",
       "      <td>NaN</td>\n",
       "      <td>facebook, whatsapp, telegram, etc</td>\n",
       "      <td>igloo, haghase, hongange</td>\n",
       "      <td>Christianity</td>\n",
       "      <td>NaN</td>\n",
       "      <td>No</td>\n",
       "      <td>Married</td>\n",
       "      <td>Yes</td>\n",
       "      <td>...</td>\n",
       "      <td>Fairly dissatisfied</td>\n",
       "      <td>NaN</td>\n",
       "      <td>No</td>\n",
       "      <td>Not at all</td>\n",
       "      <td>Not at all</td>\n",
       "      <td>No</td>\n",
       "      <td>Not at all</td>\n",
       "      <td>i read newspaper, internet, and tv</td>\n",
       "      <td>A little of the time</td>\n",
       "      <td>sign language</td>\n",
       "    </tr>\n",
       "  </tbody>\n",
       "</table>\n",
       "<p>10 rows × 108 columns</p>\n",
       "</div>"
      ],
      "text/plain": [
       "   Response ID Languages you use comfortably What is your date of birth?  \\\n",
       "0    120201899                 sign language                  12/09/1997   \n",
       "1    120201670                 sign language                  05/17/1996   \n",
       "2    120201499              English language                         NaN   \n",
       "3    120201449                 sign language                  01/01/1992   \n",
       "4    120201256                 sign language                  02/28/1998   \n",
       "5    120201072                       English                  11/20/1984   \n",
       "6    120200548                       english                  09/30/1996   \n",
       "7    120200314                           NSL                  04/05/1985   \n",
       "8    120200142                       English                  04/14/1997   \n",
       "9    120187671                           NaN                         NaN   \n",
       "\n",
       "      Best contact method for communication  \\\n",
       "0                     facebook and whatsapp   \n",
       "1                                       NaN   \n",
       "2       telecommunication and message phone   \n",
       "3                              message text   \n",
       "4                        whatsapp messaging   \n",
       "5  whatsapp, facebook, message and telegram   \n",
       "6                                      text   \n",
       "7                                       NSL   \n",
       "8                                  text sms   \n",
       "9         facebook, whatsapp, telegram, etc   \n",
       "\n",
       "  Which tribal affiliation do you identify with?  \\\n",
       "0                                          margi   \n",
       "1                                            NaN   \n",
       "2                  am affliated to deaf and dumb   \n",
       "3                                         Fulani   \n",
       "4                                         chamba   \n",
       "5                                           Igbo   \n",
       "6                                           igbo   \n",
       "7                                          mbula   \n",
       "8                                           igbo   \n",
       "9                       igloo, haghase, hongange   \n",
       "\n",
       "  Which religion do you follow?     Sex  \\\n",
       "0                  Christianity  Female   \n",
       "1                  Christianity    Male   \n",
       "2                           NaN    Male   \n",
       "3                       Islamic    Male   \n",
       "4                         islam  Female   \n",
       "5                  Christianity  Female   \n",
       "6                  Christianity  Female   \n",
       "7                  Christianity  Female   \n",
       "8                  Christianity    Male   \n",
       "9                  Christianity     NaN   \n",
       "\n",
       "  Do you identify as queer, gay, bisexual, lesbian, transgender, or asexual?  \\\n",
       "0                                                 No                           \n",
       "1                                                 No                           \n",
       "2                                                 No                           \n",
       "3                                                 No                           \n",
       "4                                                 No                           \n",
       "5                                                 No                           \n",
       "6                                                 No                           \n",
       "7                                                 No                           \n",
       "8                                                 No                           \n",
       "9                                                 No                           \n",
       "\n",
       "  Describe your relationship status Is your partner deaf?  ...  \\\n",
       "0                            Single                   NaN  ...   \n",
       "1                           Married                   NaN  ...   \n",
       "2                           Married                   Yes  ...   \n",
       "3                            Single                   NaN  ...   \n",
       "4                            Single                   NaN  ...   \n",
       "5                           Married                   Yes  ...   \n",
       "6                            Single                   NaN  ...   \n",
       "7                            Single                   NaN  ...   \n",
       "8                           Married                   Yes  ...   \n",
       "9                           Married                   Yes  ...   \n",
       "\n",
       "  How satisfied are you with your health?  \\\n",
       "0                               Satisfied   \n",
       "1      Neither satisfied nor dissatisfied   \n",
       "2                     Fairly dissatisfied   \n",
       "3                               Satisfied   \n",
       "4                               Satisfied   \n",
       "5                     Fairly dissatisfied   \n",
       "6                               Satisfied   \n",
       "7                     Fairly dissatisfied   \n",
       "8      Neither satisfied nor dissatisfied   \n",
       "9                     Fairly dissatisfied   \n",
       "\n",
       "  Can you independently decide what you need for your health?  \\\n",
       "0                                             Always            \n",
       "1                                          Sometimes            \n",
       "2                                              Never            \n",
       "3                                          Sometimes            \n",
       "4                                          Sometimes            \n",
       "5                                          Sometimes            \n",
       "6                                              Never            \n",
       "7                                              Never            \n",
       "8                                       Infrequently            \n",
       "9                                                NaN            \n",
       "\n",
       "   Are there enough interpreters?  Are interpreters qualified and clear?  \\\n",
       "0                             Yes                             Not at all   \n",
       "1                             Yes                               Somewhat   \n",
       "2                             Yes                      To a great extent   \n",
       "3                             Yes                             Not at all   \n",
       "4                             Yes                             Not at all   \n",
       "5                              No                               Somewhat   \n",
       "6                              No                             Not at all   \n",
       "7                             Yes                             Not at all   \n",
       "8                             Yes                             Not at all   \n",
       "9                              No                             Not at all   \n",
       "\n",
       "   Do you trust interpreters to work with you?  \\\n",
       "0                                   Not at all   \n",
       "1                                     Somewhat   \n",
       "2                            To a great extent   \n",
       "3                                   Not at all   \n",
       "4                                   Not at all   \n",
       "5                                     Somewhat   \n",
       "6                                   Not at all   \n",
       "7                                   Not at all   \n",
       "8                                   Not at all   \n",
       "9                                   Not at all   \n",
       "\n",
       "  Do you feel that filling out a form to make a complaint about lack of accommodation service is helpful?  \\\n",
       "0                                                Yes                                                        \n",
       "1                                                Yes                                                        \n",
       "2                                                Yes                                                        \n",
       "3                                                Yes                                                        \n",
       "4                                                Yes                                                        \n",
       "5                                                Yes                                                        \n",
       "6                                                Yes                                                        \n",
       "7                                                 No                                                        \n",
       "8                                                Yes                                                        \n",
       "9                                                 No                                                        \n",
       "\n",
       "   In a crisis like natural disasters or disease, are you confident about accessing necessary information and communication?  \\\n",
       "0                                         Not at all                                                                           \n",
       "1                                         Not at all                                                                           \n",
       "2                                           Slightly                                                                           \n",
       "3                                         Not at all                                                                           \n",
       "4                                         Not at all                                                                           \n",
       "5                                           Somewhat                                                                           \n",
       "6                                         Not at all                                                                           \n",
       "7                                         Not at all                                                                           \n",
       "8                                         Not at all                                                                           \n",
       "9                                         Not at all                                                                           \n",
       "\n",
       "  In a crisis like natural disasters or disease, where do you get necessary information and communication?  \\\n",
       "0                                      sign language                                                         \n",
       "1                                                NaN                                                         \n",
       "2                                     through my son                                                         \n",
       "3                                                NaN                                                         \n",
       "4                                                NaN                                                         \n",
       "5              social platforms, newspaper, internet                                                         \n",
       "6                        my family (using gesturing)                                                         \n",
       "7                                                NaN                                                         \n",
       "8                                          newspaper                                                         \n",
       "9                 i read newspaper, internet, and tv                                                         \n",
       "\n",
       "  Throughout your lifetime, how often have you felt discriminated against by others because you are deaf?  \\\n",
       "0                                         Not at all                                                        \n",
       "1                                    All of the time                                                        \n",
       "2                          A fair amount of the time                                                        \n",
       "3                                         Not at all                                                        \n",
       "4                                         Not at all                                                        \n",
       "5                                    All of the time                                                        \n",
       "6                                    All of the time                                                        \n",
       "7                                    All of the time                                                        \n",
       "8                                         Not at all                                                        \n",
       "9                               A little of the time                                                        \n",
       "\n",
       "  How do you communicate with your family members?  \n",
       "0                                              yes  \n",
       "1                                    sign language  \n",
       "2                                    sign language  \n",
       "3                                              yes  \n",
       "4                                              yes  \n",
       "5                   speaking, writing, and gesture  \n",
       "6                                        gesturing  \n",
       "7                               hand/sign language  \n",
       "8                                              NaN  \n",
       "9                                    sign language  \n",
       "\n",
       "[10 rows x 108 columns]"
      ]
     },
     "execution_count": 65,
     "metadata": {},
     "output_type": "execute_result"
    }
   ],
   "source": [
    "df.head(10)"
   ]
  },
  {
   "cell_type": "code",
   "execution_count": 7,
   "id": "6945a15e-853e-4a45-8020-117bfceec6e4",
   "metadata": {
    "tags": []
   },
   "outputs": [
    {
     "name": "stdout",
     "output_type": "stream",
     "text": [
      "<class 'pandas.core.frame.DataFrame'>\n",
      "RangeIndex: 231 entries, 0 to 230\n",
      "Columns: 108 entries, Response ID to How do you communicate with your family members?\n",
      "dtypes: float64(9), int64(1), object(98)\n",
      "memory usage: 195.0+ KB\n"
     ]
    }
   ],
   "source": [
    "df.info()"
   ]
  },
  {
   "cell_type": "code",
   "execution_count": 66,
   "id": "e82916cb-6453-42e4-80d6-bb7966754110",
   "metadata": {
    "tags": []
   },
   "outputs": [
    {
     "data": {
      "text/plain": [
       "Response ID                                                                                                                    0\n",
       "Languages you use comfortably                                                                                                 22\n",
       "What is your date of birth?                                                                                                   14\n",
       "Best contact method for communication                                                                                         20\n",
       "Which tribal affiliation do you identify with?                                                                                19\n",
       "                                                                                                                            ... \n",
       "Do you feel that filling out a form to make a complaint about lack of accommodation service is helpful?                       71\n",
       "In a crisis like natural disasters or disease, are you confident about accessing necessary information and communication?     61\n",
       "In a crisis like natural disasters or disease, where do you get necessary information and communication?                     106\n",
       "Throughout your lifetime, how often have you felt discriminated against by others because you are deaf?                       77\n",
       "How do you communicate with your family members?                                                                             101\n",
       "Length: 108, dtype: int64"
      ]
     },
     "execution_count": 66,
     "metadata": {},
     "output_type": "execute_result"
    }
   ],
   "source": [
    "df.isnull().sum()"
   ]
  },
  {
   "cell_type": "code",
   "execution_count": 9,
   "id": "ac60e177-f44b-470d-97ee-4e94c759d22c",
   "metadata": {
    "tags": []
   },
   "outputs": [
    {
     "data": {
      "text/plain": [
       "Sex\n",
       "Male      133\n",
       "Female     92\n",
       "Name: count, dtype: int64"
      ]
     },
     "execution_count": 9,
     "metadata": {},
     "output_type": "execute_result"
    }
   ],
   "source": [
    "df['Sex'].value_counts()"
   ]
  },
  {
   "cell_type": "code",
   "execution_count": 10,
   "id": "fd17ca0b-f8a5-4ecd-adfd-59268f495aa1",
   "metadata": {
    "tags": []
   },
   "outputs": [
    {
     "data": {
      "text/plain": [
       "Which religion do you follow?\n",
       "Christianity    143\n",
       "Islam            69\n",
       "Islamic           1\n",
       "islam             1\n",
       "Name: count, dtype: int64"
      ]
     },
     "execution_count": 10,
     "metadata": {},
     "output_type": "execute_result"
    }
   ],
   "source": [
    "df['Which religion do you follow?'].value_counts()"
   ]
  },
  {
   "cell_type": "code",
   "execution_count": 11,
   "id": "c2a2c815-5262-45bd-94f0-655ab8c731dc",
   "metadata": {
    "tags": []
   },
   "outputs": [],
   "source": [
    "df1=df.copy()"
   ]
  },
  {
   "cell_type": "code",
   "execution_count": 67,
   "id": "bd66cf0d-514f-47d3-b73e-02c05273f1eb",
   "metadata": {
    "tags": []
   },
   "outputs": [
    {
     "data": {
      "text/html": [
       "<div>\n",
       "<style scoped>\n",
       "    .dataframe tbody tr th:only-of-type {\n",
       "        vertical-align: middle;\n",
       "    }\n",
       "\n",
       "    .dataframe tbody tr th {\n",
       "        vertical-align: top;\n",
       "    }\n",
       "\n",
       "    .dataframe thead th {\n",
       "        text-align: right;\n",
       "    }\n",
       "</style>\n",
       "<table border=\"1\" class=\"dataframe\">\n",
       "  <thead>\n",
       "    <tr style=\"text-align: right;\">\n",
       "      <th></th>\n",
       "      <th>Response ID</th>\n",
       "      <th>Languages you use comfortably</th>\n",
       "      <th>What is your date of birth?</th>\n",
       "      <th>Best contact method for communication</th>\n",
       "      <th>Which tribal affiliation do you identify with?</th>\n",
       "      <th>Which religion do you follow?</th>\n",
       "      <th>Sex</th>\n",
       "      <th>Do you identify as queer, gay, bisexual, lesbian, transgender, or asexual?</th>\n",
       "      <th>Describe your relationship status</th>\n",
       "      <th>Is your partner deaf?</th>\n",
       "      <th>...</th>\n",
       "      <th>How satisfied are you with your health?</th>\n",
       "      <th>Can you independently decide what you need for your health?</th>\n",
       "      <th>Are there enough interpreters?</th>\n",
       "      <th>Are interpreters qualified and clear?</th>\n",
       "      <th>Do you trust interpreters to work with you?</th>\n",
       "      <th>Do you feel that filling out a form to make a complaint about lack of accommodation service is helpful?</th>\n",
       "      <th>In a crisis like natural disasters or disease, are you confident about accessing necessary information and communication?</th>\n",
       "      <th>In a crisis like natural disasters or disease, where do you get necessary information and communication?</th>\n",
       "      <th>Throughout your lifetime, how often have you felt discriminated against by others because you are deaf?</th>\n",
       "      <th>How do you communicate with your family members?</th>\n",
       "    </tr>\n",
       "  </thead>\n",
       "  <tbody>\n",
       "  </tbody>\n",
       "</table>\n",
       "<p>0 rows × 108 columns</p>\n",
       "</div>"
      ],
      "text/plain": [
       "Empty DataFrame\n",
       "Columns: [Response ID, Languages you use comfortably, What is your date of birth?, Best contact method for communication, Which tribal affiliation do you identify with?, Which religion do you follow?, Sex, Do you identify as queer, gay, bisexual, lesbian, transgender, or asexual?, Describe your relationship status, Is your partner deaf?, Current occupation status, What kind job do you have?, How much money do you earn a month? (Salary) [It is in Niara currency], How many jobs do you have?, How many days a week do you work?, Education, How much do you pay yearly for rent or mortage?, Do you own a house?, Do you have access to clean water?, Do you have access to wash your hands?, Do you feel like you have enough to eat?, Do you feel that what you eat supports your health needs?, - How often do you eat fresh fruit or vegetables?, Is healthy food expensive?, Why are you not eating healthy foods? - I don't have the transportation to go shopping for healthy food, Why are you not eating healthy foods? - I don't have the time to shop for, and prepare healthy food, Why are you not eating healthy foods? - I don't know how to cook and prepare healthy meals, Why are you not eating healthy foods? - I don't have the supplies and equipment I'd need to cook healthy food, Why are you not eating healthy foods? - The others in my household do not eat healthy, Why are you not eating healthy foods? - I am not ready to change my eating habits, Why are you not eating healthy foods? - Other, Do you have access to computer/laptop?, Do you have access to internet?, How would you rate your quality of life?, How satisfied are you with your capacity for work?, How satisfied are you with your ability to perform your daily living activities?, Do you have enough energy for everyday life?, How satisfied are you with your sleep?, - How much do you need any medical treatment to function in your daily life?, How much do you enjoy life?, How often do you have negative feelings, such as blue mood, despair, anxiety, or depression?, To what extent do you feel your life to be meaningful?, Are you able to accept your bodily appearance?, How satisfied are you with yourself?, How satisfied are you with your access to health services?, How available to you is the information that you need in your day-to-day life?, How safe do you feel in your daily life?, Have you enough money to meet your needs?, How healthy is your physical environment?, How satisfied are you with the conditions of your living place?, How satisfied are you with transportation?, How satisfied are you with your personal relationships, How satisfied are you with your sex life?, How satisfied are you with the support you get from your friends?, In the event of violence, such as a gun shooting or abuse, whom do you communicate with?, Did you lose a parent through divorce, abandonment, death, or other reason?, Did your parents or adults in your home ever hit, punch, beat, or threaten to harm each other?, Did you live with anyone who went to jail or prison?, Did a parent or adult in your home ever swear at you, insult you, or put you down?, - Did you see or hear someone being stabbed or shot?, - Did you experience the deliberate destruction of your home?, - Were you beaten up by soliders, police, militia, bandits, boko haram, or thugs?, At what age did you begin experiencing hearing loss?, What did you need to support your hearing loss experience?, How old were you when you learned sign language?, Do you want to learn sign language?, How fluent are you in sign language?, Where did you learn sign language?, What tools or devices do you use for your hearing? - Hearing Aids, What tools or devices do you use for your hearing? - Cochlear Implants, What tools or devices do you use for your hearing? - Other, What age did you get your hearing aid?, Do you still wear hearing aids?, Do you have access to battery replacements or repairs for your assisted hearing devices?, What age did you have your cochlear implant surgery?, - How often do you use cochlear implant?, Do you have access to speech and/or auditory therapy?, List all the locations in your area that offer services, gatherings, and events related to the deaf community (including centers, agencies, churches, festivals, schools, gatherings, etc)., What are the three most significant challenges you believe deaf people face in your area?, Is transportation affordable for you?, Do you find hearing organizations accessible for you to join? (e.g., do they provide interpreters?), Who is responsible for covering the cost of communication access, such as interpreters?, If you require communication access at work, can you get it?, If you require communication access at school, can you get it?, If you require communication access at social events (e.g., festivals, weddings, religious gatherings), can you get it?, If you require communication access in healthcare, can you get it?, Can you communicate with your doctor?, Can you afford the healthcare you need?, Do you have any other health disorders or issues? - Typhoid, Do you have any other health disorders or issues? - Malaria, Do you have any other health disorders or issues? - HIV/AIDS, Do you have any other health disorders or issues? - Cancer, Do you have any other health disorders or issues? - Diabetes, Do you have any other health disorders or issues? - High Blood Pressure, Do you have any other health disorders or issues? - Liver disease, Do you have any other health disorders or issues? - Ulcers, Do you have any other health disorders or issues? - Other, How do you protect yourself from Malaria?, How satisfied are you with your health?, Can you independently decide what you need for your health?, ...]\n",
       "Index: []\n",
       "\n",
       "[0 rows x 108 columns]"
      ]
     },
     "execution_count": 67,
     "metadata": {},
     "output_type": "execute_result"
    }
   ],
   "source": [
    "df1[df1['Which religion do you follow?']=='Islamic']"
   ]
  },
  {
   "cell_type": "code",
   "execution_count": 68,
   "id": "7407e4df-9b5c-4861-8393-0595c0a1fa62",
   "metadata": {
    "tags": []
   },
   "outputs": [],
   "source": [
    "df1['Which religion do you follow?']=df1['Which religion do you follow?'].replace(['Islamic', 'islam'],'Islam')"
   ]
  },
  {
   "cell_type": "code",
   "execution_count": 69,
   "id": "dc6bdfe9-86f6-4085-80df-d0c1ae64e7ff",
   "metadata": {
    "tags": []
   },
   "outputs": [
    {
     "data": {
      "text/plain": [
       "Which religion do you follow?\n",
       "Christianity    143\n",
       "Islam            71\n",
       "Name: count, dtype: int64"
      ]
     },
     "execution_count": 69,
     "metadata": {},
     "output_type": "execute_result"
    }
   ],
   "source": [
    "df1['Which religion do you follow?'].value_counts()"
   ]
  },
  {
   "cell_type": "code",
   "execution_count": 70,
   "id": "dbd3c39d-0ecb-4e6c-9fa6-372e3441ef41",
   "metadata": {
    "tags": []
   },
   "outputs": [
    {
     "data": {
      "text/plain": [
       "Sex\n",
       "Male      133\n",
       "Female     92\n",
       "Name: count, dtype: int64"
      ]
     },
     "execution_count": 70,
     "metadata": {},
     "output_type": "execute_result"
    }
   ],
   "source": [
    "df1['Sex'].value_counts()"
   ]
  },
  {
   "cell_type": "code",
   "execution_count": 16,
   "id": "33b9fffa-bbfe-40d7-8064-c00ff37af896",
   "metadata": {
    "tags": []
   },
   "outputs": [
    {
     "data": {
      "text/plain": [
       "(231, 108)"
      ]
     },
     "execution_count": 16,
     "metadata": {},
     "output_type": "execute_result"
    }
   ],
   "source": [
    "df1.shape"
   ]
  },
  {
   "cell_type": "code",
   "execution_count": 17,
   "id": "fd00297e-dea1-4c91-97a3-0cb7d5462aa4",
   "metadata": {},
   "outputs": [
    {
     "data": {
      "text/plain": [
       "6"
      ]
     },
     "execution_count": 17,
     "metadata": {},
     "output_type": "execute_result"
    }
   ],
   "source": [
    "df['Sex'].isna().sum()"
   ]
  },
  {
   "cell_type": "code",
   "execution_count": 71,
   "id": "2547a254-3596-46e7-bb6d-64a783da6c54",
   "metadata": {
    "tags": []
   },
   "outputs": [
    {
     "data": {
      "text/html": [
       "<div>\n",
       "<style scoped>\n",
       "    .dataframe tbody tr th:only-of-type {\n",
       "        vertical-align: middle;\n",
       "    }\n",
       "\n",
       "    .dataframe tbody tr th {\n",
       "        vertical-align: top;\n",
       "    }\n",
       "\n",
       "    .dataframe thead th {\n",
       "        text-align: right;\n",
       "    }\n",
       "</style>\n",
       "<table border=\"1\" class=\"dataframe\">\n",
       "  <thead>\n",
       "    <tr style=\"text-align: right;\">\n",
       "      <th></th>\n",
       "      <th>Response ID</th>\n",
       "      <th>Languages you use comfortably</th>\n",
       "      <th>What is your date of birth?</th>\n",
       "      <th>Best contact method for communication</th>\n",
       "      <th>Which tribal affiliation do you identify with?</th>\n",
       "      <th>Which religion do you follow?</th>\n",
       "      <th>Sex</th>\n",
       "      <th>Do you identify as queer, gay, bisexual, lesbian, transgender, or asexual?</th>\n",
       "      <th>Describe your relationship status</th>\n",
       "      <th>Is your partner deaf?</th>\n",
       "      <th>...</th>\n",
       "      <th>How satisfied are you with your health?</th>\n",
       "      <th>Can you independently decide what you need for your health?</th>\n",
       "      <th>Are there enough interpreters?</th>\n",
       "      <th>Are interpreters qualified and clear?</th>\n",
       "      <th>Do you trust interpreters to work with you?</th>\n",
       "      <th>Do you feel that filling out a form to make a complaint about lack of accommodation service is helpful?</th>\n",
       "      <th>In a crisis like natural disasters or disease, are you confident about accessing necessary information and communication?</th>\n",
       "      <th>In a crisis like natural disasters or disease, where do you get necessary information and communication?</th>\n",
       "      <th>Throughout your lifetime, how often have you felt discriminated against by others because you are deaf?</th>\n",
       "      <th>How do you communicate with your family members?</th>\n",
       "    </tr>\n",
       "  </thead>\n",
       "  <tbody>\n",
       "    <tr>\n",
       "      <th>9</th>\n",
       "      <td>120187671</td>\n",
       "      <td>NaN</td>\n",
       "      <td>NaN</td>\n",
       "      <td>facebook, whatsapp, telegram, etc</td>\n",
       "      <td>igloo, haghase, hongange</td>\n",
       "      <td>Christianity</td>\n",
       "      <td>NaN</td>\n",
       "      <td>No</td>\n",
       "      <td>Married</td>\n",
       "      <td>Yes</td>\n",
       "      <td>...</td>\n",
       "      <td>Fairly dissatisfied</td>\n",
       "      <td>NaN</td>\n",
       "      <td>No</td>\n",
       "      <td>Not at all</td>\n",
       "      <td>Not at all</td>\n",
       "      <td>No</td>\n",
       "      <td>Not at all</td>\n",
       "      <td>i read newspaper, internet, and tv</td>\n",
       "      <td>A little of the time</td>\n",
       "      <td>sign language</td>\n",
       "    </tr>\n",
       "    <tr>\n",
       "      <th>70</th>\n",
       "      <td>119510640</td>\n",
       "      <td>English</td>\n",
       "      <td>NaN</td>\n",
       "      <td>text message</td>\n",
       "      <td>bini</td>\n",
       "      <td>Christianity</td>\n",
       "      <td>NaN</td>\n",
       "      <td>No</td>\n",
       "      <td>Single</td>\n",
       "      <td>NaN</td>\n",
       "      <td>...</td>\n",
       "      <td>Fairly dissatisfied</td>\n",
       "      <td>Always</td>\n",
       "      <td>No</td>\n",
       "      <td>Not at all</td>\n",
       "      <td>Not at all</td>\n",
       "      <td>NaN</td>\n",
       "      <td>Not at all</td>\n",
       "      <td>NaN</td>\n",
       "      <td>All of the time</td>\n",
       "      <td>sign language</td>\n",
       "    </tr>\n",
       "    <tr>\n",
       "      <th>74</th>\n",
       "      <td>119473734</td>\n",
       "      <td>English, Hausa and sign language</td>\n",
       "      <td>07/17/1989</td>\n",
       "      <td>Facebook, email, whatsapp, and telegram</td>\n",
       "      <td>hausa</td>\n",
       "      <td>Islam</td>\n",
       "      <td>NaN</td>\n",
       "      <td>NaN</td>\n",
       "      <td>NaN</td>\n",
       "      <td>NaN</td>\n",
       "      <td>...</td>\n",
       "      <td>NaN</td>\n",
       "      <td>NaN</td>\n",
       "      <td>NaN</td>\n",
       "      <td>NaN</td>\n",
       "      <td>NaN</td>\n",
       "      <td>NaN</td>\n",
       "      <td>NaN</td>\n",
       "      <td>NaN</td>\n",
       "      <td>NaN</td>\n",
       "      <td>NaN</td>\n",
       "    </tr>\n",
       "    <tr>\n",
       "      <th>100</th>\n",
       "      <td>119042177</td>\n",
       "      <td>NaN</td>\n",
       "      <td>NaN</td>\n",
       "      <td>NaN</td>\n",
       "      <td>NaN</td>\n",
       "      <td>NaN</td>\n",
       "      <td>NaN</td>\n",
       "      <td>NaN</td>\n",
       "      <td>NaN</td>\n",
       "      <td>NaN</td>\n",
       "      <td>...</td>\n",
       "      <td>NaN</td>\n",
       "      <td>NaN</td>\n",
       "      <td>NaN</td>\n",
       "      <td>NaN</td>\n",
       "      <td>NaN</td>\n",
       "      <td>NaN</td>\n",
       "      <td>NaN</td>\n",
       "      <td>NaN</td>\n",
       "      <td>NaN</td>\n",
       "      <td>NaN</td>\n",
       "    </tr>\n",
       "    <tr>\n",
       "      <th>113</th>\n",
       "      <td>119016506</td>\n",
       "      <td>English and Hausa</td>\n",
       "      <td>08/23/1985</td>\n",
       "      <td>text, whatsapp, and sms</td>\n",
       "      <td>Hausa</td>\n",
       "      <td>Islam</td>\n",
       "      <td>NaN</td>\n",
       "      <td>No</td>\n",
       "      <td>Married</td>\n",
       "      <td>Yes</td>\n",
       "      <td>...</td>\n",
       "      <td>Very satisfied</td>\n",
       "      <td>NaN</td>\n",
       "      <td>No</td>\n",
       "      <td>Somewhat</td>\n",
       "      <td>Somewhat</td>\n",
       "      <td>Yes</td>\n",
       "      <td>Slightly</td>\n",
       "      <td>NaN</td>\n",
       "      <td>A fair amount of the time</td>\n",
       "      <td>NaN</td>\n",
       "    </tr>\n",
       "    <tr>\n",
       "      <th>125</th>\n",
       "      <td>118921521</td>\n",
       "      <td>Hausa, English</td>\n",
       "      <td>01/22/2001</td>\n",
       "      <td>lip reading, sign language</td>\n",
       "      <td>hausa</td>\n",
       "      <td>Islam</td>\n",
       "      <td>NaN</td>\n",
       "      <td>No</td>\n",
       "      <td>Married</td>\n",
       "      <td>Yes</td>\n",
       "      <td>...</td>\n",
       "      <td>Satisfied</td>\n",
       "      <td>Always</td>\n",
       "      <td>NaN</td>\n",
       "      <td>Somewhat</td>\n",
       "      <td>Slightly</td>\n",
       "      <td>Yes</td>\n",
       "      <td>Slightly</td>\n",
       "      <td>through the internet</td>\n",
       "      <td>A little of the time</td>\n",
       "      <td>sometimes sign language, but most time lip rea...</td>\n",
       "    </tr>\n",
       "  </tbody>\n",
       "</table>\n",
       "<p>6 rows × 108 columns</p>\n",
       "</div>"
      ],
      "text/plain": [
       "     Response ID     Languages you use comfortably  \\\n",
       "9      120187671                               NaN   \n",
       "70     119510640                           English   \n",
       "74     119473734  English, Hausa and sign language   \n",
       "100    119042177                               NaN   \n",
       "113    119016506                 English and Hausa   \n",
       "125    118921521                    Hausa, English   \n",
       "\n",
       "    What is your date of birth?    Best contact method for communication  \\\n",
       "9                           NaN        facebook, whatsapp, telegram, etc   \n",
       "70                          NaN                             text message   \n",
       "74                   07/17/1989  Facebook, email, whatsapp, and telegram   \n",
       "100                         NaN                                      NaN   \n",
       "113                  08/23/1985                  text, whatsapp, and sms   \n",
       "125                  01/22/2001               lip reading, sign language   \n",
       "\n",
       "    Which tribal affiliation do you identify with?  \\\n",
       "9                         igloo, haghase, hongange   \n",
       "70                                            bini   \n",
       "74                                           hausa   \n",
       "100                                            NaN   \n",
       "113                                          Hausa   \n",
       "125                                          hausa   \n",
       "\n",
       "    Which religion do you follow?  Sex  \\\n",
       "9                    Christianity  NaN   \n",
       "70                   Christianity  NaN   \n",
       "74                          Islam  NaN   \n",
       "100                           NaN  NaN   \n",
       "113                         Islam  NaN   \n",
       "125                         Islam  NaN   \n",
       "\n",
       "    Do you identify as queer, gay, bisexual, lesbian, transgender, or asexual?  \\\n",
       "9                                                   No                           \n",
       "70                                                  No                           \n",
       "74                                                 NaN                           \n",
       "100                                                NaN                           \n",
       "113                                                 No                           \n",
       "125                                                 No                           \n",
       "\n",
       "    Describe your relationship status Is your partner deaf?  ...  \\\n",
       "9                             Married                   Yes  ...   \n",
       "70                             Single                   NaN  ...   \n",
       "74                                NaN                   NaN  ...   \n",
       "100                               NaN                   NaN  ...   \n",
       "113                           Married                   Yes  ...   \n",
       "125                           Married                   Yes  ...   \n",
       "\n",
       "    How satisfied are you with your health?  \\\n",
       "9                       Fairly dissatisfied   \n",
       "70                      Fairly dissatisfied   \n",
       "74                                      NaN   \n",
       "100                                     NaN   \n",
       "113                          Very satisfied   \n",
       "125                               Satisfied   \n",
       "\n",
       "    Can you independently decide what you need for your health?  \\\n",
       "9                                                  NaN            \n",
       "70                                              Always            \n",
       "74                                                 NaN            \n",
       "100                                                NaN            \n",
       "113                                                NaN            \n",
       "125                                             Always            \n",
       "\n",
       "     Are there enough interpreters?  Are interpreters qualified and clear?  \\\n",
       "9                                No                             Not at all   \n",
       "70                               No                             Not at all   \n",
       "74                              NaN                                    NaN   \n",
       "100                             NaN                                    NaN   \n",
       "113                              No                               Somewhat   \n",
       "125                             NaN                               Somewhat   \n",
       "\n",
       "     Do you trust interpreters to work with you?  \\\n",
       "9                                     Not at all   \n",
       "70                                    Not at all   \n",
       "74                                           NaN   \n",
       "100                                          NaN   \n",
       "113                                     Somewhat   \n",
       "125                                     Slightly   \n",
       "\n",
       "    Do you feel that filling out a form to make a complaint about lack of accommodation service is helpful?  \\\n",
       "9                                                   No                                                        \n",
       "70                                                 NaN                                                        \n",
       "74                                                 NaN                                                        \n",
       "100                                                NaN                                                        \n",
       "113                                                Yes                                                        \n",
       "125                                                Yes                                                        \n",
       "\n",
       "     In a crisis like natural disasters or disease, are you confident about accessing necessary information and communication?  \\\n",
       "9                                           Not at all                                                                           \n",
       "70                                          Not at all                                                                           \n",
       "74                                                 NaN                                                                           \n",
       "100                                                NaN                                                                           \n",
       "113                                           Slightly                                                                           \n",
       "125                                           Slightly                                                                           \n",
       "\n",
       "    In a crisis like natural disasters or disease, where do you get necessary information and communication?  \\\n",
       "9                   i read newspaper, internet, and tv                                                         \n",
       "70                                                 NaN                                                         \n",
       "74                                                 NaN                                                         \n",
       "100                                                NaN                                                         \n",
       "113                                                NaN                                                         \n",
       "125                               through the internet                                                         \n",
       "\n",
       "    Throughout your lifetime, how often have you felt discriminated against by others because you are deaf?  \\\n",
       "9                                 A little of the time                                                        \n",
       "70                                     All of the time                                                        \n",
       "74                                                 NaN                                                        \n",
       "100                                                NaN                                                        \n",
       "113                          A fair amount of the time                                                        \n",
       "125                               A little of the time                                                        \n",
       "\n",
       "      How do you communicate with your family members?  \n",
       "9                                        sign language  \n",
       "70                                       sign language  \n",
       "74                                                 NaN  \n",
       "100                                                NaN  \n",
       "113                                                NaN  \n",
       "125  sometimes sign language, but most time lip rea...  \n",
       "\n",
       "[6 rows x 108 columns]"
      ]
     },
     "execution_count": 71,
     "metadata": {},
     "output_type": "execute_result"
    }
   ],
   "source": [
    "df1[pd.isna(df1['Sex'])]"
   ]
  },
  {
   "cell_type": "code",
   "execution_count": 19,
   "id": "e805c7df-d2d4-4ab3-a5c9-1e6a0454cbe4",
   "metadata": {
    "tags": []
   },
   "outputs": [
    {
     "ename": "NameError",
     "evalue": "name 'blank_sex' is not defined",
     "output_type": "error",
     "traceback": [
      "\u001b[1;31m---------------------------------------------------------------------------\u001b[0m",
      "\u001b[1;31mNameError\u001b[0m                                 Traceback (most recent call last)",
      "Cell \u001b[1;32mIn[19], line 1\u001b[0m\n\u001b[1;32m----> 1\u001b[0m blank_sex\n",
      "\u001b[1;31mNameError\u001b[0m: name 'blank_sex' is not defined"
     ]
    }
   ],
   "source": [
    "blank_sex"
   ]
  },
  {
   "cell_type": "code",
   "execution_count": 20,
   "id": "51d957b0-aa2f-4633-ba9a-008860130abb",
   "metadata": {
    "tags": []
   },
   "outputs": [],
   "source": [
    "df1_cleaned=df1.dropna(subset=['Sex'])"
   ]
  },
  {
   "cell_type": "code",
   "execution_count": 21,
   "id": "bab35453-791e-4304-923e-6bb0f41ed704",
   "metadata": {
    "tags": []
   },
   "outputs": [
    {
     "data": {
      "text/plain": [
       "(225, 108)"
      ]
     },
     "execution_count": 21,
     "metadata": {},
     "output_type": "execute_result"
    }
   ],
   "source": [
    "df1_cleaned.shape"
   ]
  },
  {
   "cell_type": "code",
   "execution_count": 22,
   "id": "565d8e88-4b44-44ec-876b-70cd6b2544a8",
   "metadata": {
    "tags": []
   },
   "outputs": [
    {
     "data": {
      "text/plain": [
       "(231, 108)"
      ]
     },
     "execution_count": 22,
     "metadata": {},
     "output_type": "execute_result"
    }
   ],
   "source": [
    "df1.shape"
   ]
  },
  {
   "cell_type": "code",
   "execution_count": 23,
   "id": "40ace888-dd34-4774-9d0e-e1959fc7cb58",
   "metadata": {
    "tags": []
   },
   "outputs": [],
   "source": [
    "df=df1_cleaned.copy()"
   ]
  },
  {
   "cell_type": "code",
   "execution_count": 24,
   "id": "74d9c1b9-e4f7-42a1-8d79-9c069b43b926",
   "metadata": {
    "tags": []
   },
   "outputs": [
    {
     "data": {
      "text/plain": [
       "(225, 108)"
      ]
     },
     "execution_count": 24,
     "metadata": {},
     "output_type": "execute_result"
    }
   ],
   "source": [
    "df.shape"
   ]
  },
  {
   "cell_type": "code",
   "execution_count": 25,
   "id": "f0ec96a2-e552-430c-985e-2d445c2e9ad4",
   "metadata": {
    "tags": []
   },
   "outputs": [
    {
     "data": {
      "text/html": [
       "<div>\n",
       "<style scoped>\n",
       "    .dataframe tbody tr th:only-of-type {\n",
       "        vertical-align: middle;\n",
       "    }\n",
       "\n",
       "    .dataframe tbody tr th {\n",
       "        vertical-align: top;\n",
       "    }\n",
       "\n",
       "    .dataframe thead th {\n",
       "        text-align: right;\n",
       "    }\n",
       "</style>\n",
       "<table border=\"1\" class=\"dataframe\">\n",
       "  <thead>\n",
       "    <tr style=\"text-align: right;\">\n",
       "      <th></th>\n",
       "      <th>Response ID</th>\n",
       "      <th>Languages you use comfortably</th>\n",
       "      <th>What is your date of birth?</th>\n",
       "      <th>Best contact method for communication</th>\n",
       "      <th>Which tribal affiliation do you identify with?</th>\n",
       "      <th>Which religion do you follow?</th>\n",
       "      <th>Sex</th>\n",
       "      <th>Do you identify as queer, gay, bisexual, lesbian, transgender, or asexual?</th>\n",
       "      <th>Describe your relationship status</th>\n",
       "      <th>Is your partner deaf?</th>\n",
       "      <th>...</th>\n",
       "      <th>How satisfied are you with your health?</th>\n",
       "      <th>Can you independently decide what you need for your health?</th>\n",
       "      <th>Are there enough interpreters?</th>\n",
       "      <th>Are interpreters qualified and clear?</th>\n",
       "      <th>Do you trust interpreters to work with you?</th>\n",
       "      <th>Do you feel that filling out a form to make a complaint about lack of accommodation service is helpful?</th>\n",
       "      <th>In a crisis like natural disasters or disease, are you confident about accessing necessary information and communication?</th>\n",
       "      <th>In a crisis like natural disasters or disease, where do you get necessary information and communication?</th>\n",
       "      <th>Throughout your lifetime, how often have you felt discriminated against by others because you are deaf?</th>\n",
       "      <th>How do you communicate with your family members?</th>\n",
       "    </tr>\n",
       "  </thead>\n",
       "  <tbody>\n",
       "    <tr>\n",
       "      <th>0</th>\n",
       "      <td>120201899</td>\n",
       "      <td>sign language</td>\n",
       "      <td>12/09/1997</td>\n",
       "      <td>facebook and whatsapp</td>\n",
       "      <td>margi</td>\n",
       "      <td>Christianity</td>\n",
       "      <td>Female</td>\n",
       "      <td>No</td>\n",
       "      <td>Single</td>\n",
       "      <td>NaN</td>\n",
       "      <td>...</td>\n",
       "      <td>Satisfied</td>\n",
       "      <td>Always</td>\n",
       "      <td>Yes</td>\n",
       "      <td>Not at all</td>\n",
       "      <td>Not at all</td>\n",
       "      <td>Yes</td>\n",
       "      <td>Not at all</td>\n",
       "      <td>sign language</td>\n",
       "      <td>Not at all</td>\n",
       "      <td>yes</td>\n",
       "    </tr>\n",
       "    <tr>\n",
       "      <th>1</th>\n",
       "      <td>120201670</td>\n",
       "      <td>sign language</td>\n",
       "      <td>05/17/1996</td>\n",
       "      <td>NaN</td>\n",
       "      <td>NaN</td>\n",
       "      <td>Christianity</td>\n",
       "      <td>Male</td>\n",
       "      <td>No</td>\n",
       "      <td>Married</td>\n",
       "      <td>NaN</td>\n",
       "      <td>...</td>\n",
       "      <td>Neither satisfied nor dissatisfied</td>\n",
       "      <td>Sometimes</td>\n",
       "      <td>Yes</td>\n",
       "      <td>Somewhat</td>\n",
       "      <td>Somewhat</td>\n",
       "      <td>Yes</td>\n",
       "      <td>Not at all</td>\n",
       "      <td>NaN</td>\n",
       "      <td>All of the time</td>\n",
       "      <td>sign language</td>\n",
       "    </tr>\n",
       "    <tr>\n",
       "      <th>2</th>\n",
       "      <td>120201499</td>\n",
       "      <td>English language</td>\n",
       "      <td>NaN</td>\n",
       "      <td>telecommunication and message phone</td>\n",
       "      <td>am affliated to deaf and dumb</td>\n",
       "      <td>NaN</td>\n",
       "      <td>Male</td>\n",
       "      <td>No</td>\n",
       "      <td>Married</td>\n",
       "      <td>Yes</td>\n",
       "      <td>...</td>\n",
       "      <td>Fairly dissatisfied</td>\n",
       "      <td>Never</td>\n",
       "      <td>Yes</td>\n",
       "      <td>To a great extent</td>\n",
       "      <td>To a great extent</td>\n",
       "      <td>Yes</td>\n",
       "      <td>Slightly</td>\n",
       "      <td>through my son</td>\n",
       "      <td>A fair amount of the time</td>\n",
       "      <td>sign language</td>\n",
       "    </tr>\n",
       "    <tr>\n",
       "      <th>3</th>\n",
       "      <td>120201449</td>\n",
       "      <td>sign language</td>\n",
       "      <td>01/01/1992</td>\n",
       "      <td>message text</td>\n",
       "      <td>Fulani</td>\n",
       "      <td>Islam</td>\n",
       "      <td>Male</td>\n",
       "      <td>No</td>\n",
       "      <td>Single</td>\n",
       "      <td>NaN</td>\n",
       "      <td>...</td>\n",
       "      <td>Satisfied</td>\n",
       "      <td>Sometimes</td>\n",
       "      <td>Yes</td>\n",
       "      <td>Not at all</td>\n",
       "      <td>Not at all</td>\n",
       "      <td>Yes</td>\n",
       "      <td>Not at all</td>\n",
       "      <td>NaN</td>\n",
       "      <td>Not at all</td>\n",
       "      <td>yes</td>\n",
       "    </tr>\n",
       "    <tr>\n",
       "      <th>4</th>\n",
       "      <td>120201256</td>\n",
       "      <td>sign language</td>\n",
       "      <td>02/28/1998</td>\n",
       "      <td>whatsapp messaging</td>\n",
       "      <td>chamba</td>\n",
       "      <td>Islam</td>\n",
       "      <td>Female</td>\n",
       "      <td>No</td>\n",
       "      <td>Single</td>\n",
       "      <td>NaN</td>\n",
       "      <td>...</td>\n",
       "      <td>Satisfied</td>\n",
       "      <td>Sometimes</td>\n",
       "      <td>Yes</td>\n",
       "      <td>Not at all</td>\n",
       "      <td>Not at all</td>\n",
       "      <td>Yes</td>\n",
       "      <td>Not at all</td>\n",
       "      <td>NaN</td>\n",
       "      <td>Not at all</td>\n",
       "      <td>yes</td>\n",
       "    </tr>\n",
       "    <tr>\n",
       "      <th>...</th>\n",
       "      <td>...</td>\n",
       "      <td>...</td>\n",
       "      <td>...</td>\n",
       "      <td>...</td>\n",
       "      <td>...</td>\n",
       "      <td>...</td>\n",
       "      <td>...</td>\n",
       "      <td>...</td>\n",
       "      <td>...</td>\n",
       "      <td>...</td>\n",
       "      <td>...</td>\n",
       "      <td>...</td>\n",
       "      <td>...</td>\n",
       "      <td>...</td>\n",
       "      <td>...</td>\n",
       "      <td>...</td>\n",
       "      <td>...</td>\n",
       "      <td>...</td>\n",
       "      <td>...</td>\n",
       "      <td>...</td>\n",
       "      <td>...</td>\n",
       "    </tr>\n",
       "    <tr>\n",
       "      <th>226</th>\n",
       "      <td>118261473</td>\n",
       "      <td>NaN</td>\n",
       "      <td>10/18/1972</td>\n",
       "      <td>Sign language</td>\n",
       "      <td>Yoruba tribal</td>\n",
       "      <td>Christianity</td>\n",
       "      <td>Female</td>\n",
       "      <td>No</td>\n",
       "      <td>Widowed</td>\n",
       "      <td>Yes</td>\n",
       "      <td>...</td>\n",
       "      <td>NaN</td>\n",
       "      <td>NaN</td>\n",
       "      <td>NaN</td>\n",
       "      <td>NaN</td>\n",
       "      <td>NaN</td>\n",
       "      <td>NaN</td>\n",
       "      <td>NaN</td>\n",
       "      <td>NaN</td>\n",
       "      <td>NaN</td>\n",
       "      <td>NaN</td>\n",
       "    </tr>\n",
       "    <tr>\n",
       "      <th>227</th>\n",
       "      <td>118261456</td>\n",
       "      <td>English</td>\n",
       "      <td>08/01/1972</td>\n",
       "      <td>NaN</td>\n",
       "      <td>NaN</td>\n",
       "      <td>Christianity</td>\n",
       "      <td>Female</td>\n",
       "      <td>No</td>\n",
       "      <td>Single</td>\n",
       "      <td>NaN</td>\n",
       "      <td>...</td>\n",
       "      <td>NaN</td>\n",
       "      <td>NaN</td>\n",
       "      <td>NaN</td>\n",
       "      <td>NaN</td>\n",
       "      <td>NaN</td>\n",
       "      <td>NaN</td>\n",
       "      <td>NaN</td>\n",
       "      <td>NaN</td>\n",
       "      <td>NaN</td>\n",
       "      <td>NaN</td>\n",
       "    </tr>\n",
       "    <tr>\n",
       "      <th>228</th>\n",
       "      <td>118261452</td>\n",
       "      <td>English Yoruba Nigerian Sign Language (NSL)</td>\n",
       "      <td>05/07/1984</td>\n",
       "      <td>E-mail and SMS</td>\n",
       "      <td>Yoruba</td>\n",
       "      <td>Christianity</td>\n",
       "      <td>Female</td>\n",
       "      <td>No</td>\n",
       "      <td>Married</td>\n",
       "      <td>Yes</td>\n",
       "      <td>...</td>\n",
       "      <td>NaN</td>\n",
       "      <td>NaN</td>\n",
       "      <td>NaN</td>\n",
       "      <td>NaN</td>\n",
       "      <td>NaN</td>\n",
       "      <td>NaN</td>\n",
       "      <td>NaN</td>\n",
       "      <td>NaN</td>\n",
       "      <td>NaN</td>\n",
       "      <td>NaN</td>\n",
       "    </tr>\n",
       "    <tr>\n",
       "      <th>229</th>\n",
       "      <td>118261427</td>\n",
       "      <td>English</td>\n",
       "      <td>01/04/1999</td>\n",
       "      <td>English</td>\n",
       "      <td>Hausa</td>\n",
       "      <td>Islam</td>\n",
       "      <td>Female</td>\n",
       "      <td>No</td>\n",
       "      <td>Single</td>\n",
       "      <td>Yes</td>\n",
       "      <td>...</td>\n",
       "      <td>NaN</td>\n",
       "      <td>NaN</td>\n",
       "      <td>NaN</td>\n",
       "      <td>NaN</td>\n",
       "      <td>NaN</td>\n",
       "      <td>NaN</td>\n",
       "      <td>NaN</td>\n",
       "      <td>NaN</td>\n",
       "      <td>NaN</td>\n",
       "      <td>NaN</td>\n",
       "    </tr>\n",
       "    <tr>\n",
       "      <th>230</th>\n",
       "      <td>118167952</td>\n",
       "      <td>Sign Language</td>\n",
       "      <td>09/16/1986</td>\n",
       "      <td>WhatsApp</td>\n",
       "      <td>Fulani</td>\n",
       "      <td>Islam</td>\n",
       "      <td>Male</td>\n",
       "      <td>No</td>\n",
       "      <td>Married</td>\n",
       "      <td>No</td>\n",
       "      <td>...</td>\n",
       "      <td>Very satisfied</td>\n",
       "      <td>Always</td>\n",
       "      <td>No</td>\n",
       "      <td>Not at all</td>\n",
       "      <td>Not at all</td>\n",
       "      <td>No</td>\n",
       "      <td>Not at all</td>\n",
       "      <td>Social Media</td>\n",
       "      <td>All of the time</td>\n",
       "      <td>gesturing, writing, and signing</td>\n",
       "    </tr>\n",
       "  </tbody>\n",
       "</table>\n",
       "<p>225 rows × 108 columns</p>\n",
       "</div>"
      ],
      "text/plain": [
       "     Response ID                Languages you use comfortably  \\\n",
       "0      120201899                                sign language   \n",
       "1      120201670                                sign language   \n",
       "2      120201499                             English language   \n",
       "3      120201449                                sign language   \n",
       "4      120201256                                sign language   \n",
       "..           ...                                          ...   \n",
       "226    118261473                                          NaN   \n",
       "227    118261456                                      English   \n",
       "228    118261452  English Yoruba Nigerian Sign Language (NSL)   \n",
       "229    118261427                                      English   \n",
       "230    118167952                                Sign Language   \n",
       "\n",
       "    What is your date of birth? Best contact method for communication  \\\n",
       "0                    12/09/1997                 facebook and whatsapp   \n",
       "1                    05/17/1996                                   NaN   \n",
       "2                           NaN   telecommunication and message phone   \n",
       "3                    01/01/1992                          message text   \n",
       "4                    02/28/1998                    whatsapp messaging   \n",
       "..                          ...                                   ...   \n",
       "226                  10/18/1972                         Sign language   \n",
       "227                  08/01/1972                                   NaN   \n",
       "228                  05/07/1984                        E-mail and SMS   \n",
       "229                  01/04/1999                               English   \n",
       "230                  09/16/1986                              WhatsApp   \n",
       "\n",
       "    Which tribal affiliation do you identify with?  \\\n",
       "0                                            margi   \n",
       "1                                              NaN   \n",
       "2                    am affliated to deaf and dumb   \n",
       "3                                           Fulani   \n",
       "4                                           chamba   \n",
       "..                                             ...   \n",
       "226                                  Yoruba tribal   \n",
       "227                                            NaN   \n",
       "228                                         Yoruba   \n",
       "229                                          Hausa   \n",
       "230                                         Fulani   \n",
       "\n",
       "    Which religion do you follow?     Sex  \\\n",
       "0                    Christianity  Female   \n",
       "1                    Christianity    Male   \n",
       "2                             NaN    Male   \n",
       "3                           Islam    Male   \n",
       "4                           Islam  Female   \n",
       "..                            ...     ...   \n",
       "226                  Christianity  Female   \n",
       "227                  Christianity  Female   \n",
       "228                  Christianity  Female   \n",
       "229                         Islam  Female   \n",
       "230                         Islam    Male   \n",
       "\n",
       "    Do you identify as queer, gay, bisexual, lesbian, transgender, or asexual?  \\\n",
       "0                                                   No                           \n",
       "1                                                   No                           \n",
       "2                                                   No                           \n",
       "3                                                   No                           \n",
       "4                                                   No                           \n",
       "..                                                 ...                           \n",
       "226                                                 No                           \n",
       "227                                                 No                           \n",
       "228                                                 No                           \n",
       "229                                                 No                           \n",
       "230                                                 No                           \n",
       "\n",
       "    Describe your relationship status Is your partner deaf?  ...  \\\n",
       "0                              Single                   NaN  ...   \n",
       "1                             Married                   NaN  ...   \n",
       "2                             Married                   Yes  ...   \n",
       "3                              Single                   NaN  ...   \n",
       "4                              Single                   NaN  ...   \n",
       "..                                ...                   ...  ...   \n",
       "226                           Widowed                   Yes  ...   \n",
       "227                            Single                   NaN  ...   \n",
       "228                           Married                   Yes  ...   \n",
       "229                            Single                   Yes  ...   \n",
       "230                           Married                    No  ...   \n",
       "\n",
       "    How satisfied are you with your health?  \\\n",
       "0                                 Satisfied   \n",
       "1        Neither satisfied nor dissatisfied   \n",
       "2                       Fairly dissatisfied   \n",
       "3                                 Satisfied   \n",
       "4                                 Satisfied   \n",
       "..                                      ...   \n",
       "226                                     NaN   \n",
       "227                                     NaN   \n",
       "228                                     NaN   \n",
       "229                                     NaN   \n",
       "230                          Very satisfied   \n",
       "\n",
       "    Can you independently decide what you need for your health?  \\\n",
       "0                                               Always            \n",
       "1                                            Sometimes            \n",
       "2                                                Never            \n",
       "3                                            Sometimes            \n",
       "4                                            Sometimes            \n",
       "..                                                 ...            \n",
       "226                                                NaN            \n",
       "227                                                NaN            \n",
       "228                                                NaN            \n",
       "229                                                NaN            \n",
       "230                                             Always            \n",
       "\n",
       "     Are there enough interpreters?  Are interpreters qualified and clear?  \\\n",
       "0                               Yes                             Not at all   \n",
       "1                               Yes                               Somewhat   \n",
       "2                               Yes                      To a great extent   \n",
       "3                               Yes                             Not at all   \n",
       "4                               Yes                             Not at all   \n",
       "..                              ...                                    ...   \n",
       "226                             NaN                                    NaN   \n",
       "227                             NaN                                    NaN   \n",
       "228                             NaN                                    NaN   \n",
       "229                             NaN                                    NaN   \n",
       "230                              No                             Not at all   \n",
       "\n",
       "     Do you trust interpreters to work with you?  \\\n",
       "0                                     Not at all   \n",
       "1                                       Somewhat   \n",
       "2                              To a great extent   \n",
       "3                                     Not at all   \n",
       "4                                     Not at all   \n",
       "..                                           ...   \n",
       "226                                          NaN   \n",
       "227                                          NaN   \n",
       "228                                          NaN   \n",
       "229                                          NaN   \n",
       "230                                   Not at all   \n",
       "\n",
       "    Do you feel that filling out a form to make a complaint about lack of accommodation service is helpful?  \\\n",
       "0                                                  Yes                                                        \n",
       "1                                                  Yes                                                        \n",
       "2                                                  Yes                                                        \n",
       "3                                                  Yes                                                        \n",
       "4                                                  Yes                                                        \n",
       "..                                                 ...                                                        \n",
       "226                                                NaN                                                        \n",
       "227                                                NaN                                                        \n",
       "228                                                NaN                                                        \n",
       "229                                                NaN                                                        \n",
       "230                                                 No                                                        \n",
       "\n",
       "     In a crisis like natural disasters or disease, are you confident about accessing necessary information and communication?  \\\n",
       "0                                           Not at all                                                                           \n",
       "1                                           Not at all                                                                           \n",
       "2                                             Slightly                                                                           \n",
       "3                                           Not at all                                                                           \n",
       "4                                           Not at all                                                                           \n",
       "..                                                 ...                                                                           \n",
       "226                                                NaN                                                                           \n",
       "227                                                NaN                                                                           \n",
       "228                                                NaN                                                                           \n",
       "229                                                NaN                                                                           \n",
       "230                                         Not at all                                                                           \n",
       "\n",
       "    In a crisis like natural disasters or disease, where do you get necessary information and communication?  \\\n",
       "0                                        sign language                                                         \n",
       "1                                                  NaN                                                         \n",
       "2                                       through my son                                                         \n",
       "3                                                  NaN                                                         \n",
       "4                                                  NaN                                                         \n",
       "..                                                 ...                                                         \n",
       "226                                                NaN                                                         \n",
       "227                                                NaN                                                         \n",
       "228                                                NaN                                                         \n",
       "229                                                NaN                                                         \n",
       "230                                       Social Media                                                         \n",
       "\n",
       "    Throughout your lifetime, how often have you felt discriminated against by others because you are deaf?  \\\n",
       "0                                           Not at all                                                        \n",
       "1                                      All of the time                                                        \n",
       "2                            A fair amount of the time                                                        \n",
       "3                                           Not at all                                                        \n",
       "4                                           Not at all                                                        \n",
       "..                                                 ...                                                        \n",
       "226                                                NaN                                                        \n",
       "227                                                NaN                                                        \n",
       "228                                                NaN                                                        \n",
       "229                                                NaN                                                        \n",
       "230                                    All of the time                                                        \n",
       "\n",
       "    How do you communicate with your family members?  \n",
       "0                                                yes  \n",
       "1                                      sign language  \n",
       "2                                      sign language  \n",
       "3                                                yes  \n",
       "4                                                yes  \n",
       "..                                               ...  \n",
       "226                                              NaN  \n",
       "227                                              NaN  \n",
       "228                                              NaN  \n",
       "229                                              NaN  \n",
       "230                  gesturing, writing, and signing  \n",
       "\n",
       "[225 rows x 108 columns]"
      ]
     },
     "execution_count": 25,
     "metadata": {},
     "output_type": "execute_result"
    }
   ],
   "source": [
    "df"
   ]
  },
  {
   "cell_type": "code",
   "execution_count": 29,
   "id": "e0eda6b2-3b56-4d84-bf97-391f59569462",
   "metadata": {
    "tags": []
   },
   "outputs": [],
   "source": [
    "from datetime import datetime, date\n",
    "dob = df['What is your date of birth?']\n",
    "\n",
    "#defining age column \n",
    "def age(born):\n",
    "    born = pd.to_datetime((born),errors='coerce') \n",
    "    born = pd.to_datetime(born).date()\n",
    "    referancedate = date(2023, 11, 1)\n",
    "    return referancedate.year - born.year - ((referancedate.month, \n",
    "                                      referancedate.day) < (born.month, \n",
    "                                                    born.day))\n",
    "df['Age'] = dob.apply(age)"
   ]
  },
  {
   "cell_type": "code",
   "execution_count": 28,
   "id": "c92aa98f-d12a-45eb-84c4-e43b5264ca17",
   "metadata": {
    "tags": []
   },
   "outputs": [
    {
     "data": {
      "text/plain": [
       "Languages you use comfortably\n",
       "English                                        40\n",
       "sign language                                  16\n",
       "NSL                                            16\n",
       "English language                               14\n",
       "Sign language                                   8\n",
       "                                               ..\n",
       "Hausa, English and Asl                          1\n",
       "English, Hausa , fulani                         1\n",
       "English, Hausa and Sign language                1\n",
       "Sign language/English                           1\n",
       "English Yoruba Nigerian Sign Language (NSL)     1\n",
       "Name: count, Length: 80, dtype: int64"
      ]
     },
     "execution_count": 28,
     "metadata": {},
     "output_type": "execute_result"
    }
   ],
   "source": [
    "df['Languages you use comfortably'].value_counts()"
   ]
  },
  {
   "cell_type": "code",
   "execution_count": 30,
   "id": "fbda07b7-920e-4668-a059-30da4951ad74",
   "metadata": {
    "tags": []
   },
   "outputs": [
    {
     "data": {
      "text/plain": [
       "(225, 109)"
      ]
     },
     "execution_count": 30,
     "metadata": {},
     "output_type": "execute_result"
    }
   ],
   "source": [
    "df.shape"
   ]
  },
  {
   "cell_type": "code",
   "execution_count": 31,
   "id": "5cc7513f-7147-4070-97a5-226cdb18bb1b",
   "metadata": {},
   "outputs": [],
   "source": [
    "df['Languages you use comfortably']=df['Languages you use comfortably'].replace(['English language', 'English','English, Hausa , fulani',],'Verbal')"
   ]
  },
  {
   "cell_type": "code",
   "execution_count": 32,
   "id": "1a2dd6f9-f1ef-47a9-bc94-34daf55b95ea",
   "metadata": {
    "tags": []
   },
   "outputs": [
    {
     "data": {
      "text/plain": [
       "Languages you use comfortably\n",
       "Verbal                                         55\n",
       "sign language                                  16\n",
       "NSL                                            16\n",
       "Sign language                                   8\n",
       "English and Hausa                               6\n",
       "                                               ..\n",
       "English or arabic                               1\n",
       "Hausa, English and Asl                          1\n",
       "English, Hausa and Sign language                1\n",
       "Sign language/English                           1\n",
       "English Yoruba Nigerian Sign Language (NSL)     1\n",
       "Name: count, Length: 78, dtype: int64"
      ]
     },
     "execution_count": 32,
     "metadata": {},
     "output_type": "execute_result"
    }
   ],
   "source": [
    "df['Languages you use comfortably'].value_counts()"
   ]
  },
  {
   "cell_type": "code",
   "execution_count": 33,
   "id": "71b0f101-68a9-4942-a495-92417b5203ab",
   "metadata": {
    "tags": []
   },
   "outputs": [],
   "source": [
    "df['Languages you use comfortably']=df['Languages you use comfortably'].replace(['English or arabic','English and Hausa'],'Verbal')"
   ]
  },
  {
   "cell_type": "code",
   "execution_count": 34,
   "id": "b15f1a8c-fa68-410c-ae23-90814f1eb6cc",
   "metadata": {
    "tags": []
   },
   "outputs": [
    {
     "data": {
      "text/plain": [
       "Languages you use comfortably\n",
       "Verbal                                         62\n",
       "sign language                                  16\n",
       "NSL                                            16\n",
       "Sign language                                   8\n",
       "Nigeria language                                6\n",
       "                                               ..\n",
       "Hausa, English and Asl                          1\n",
       "English, Hausa and Sign language                1\n",
       "Sign language/English                           1\n",
       "Sign language and english                       1\n",
       "English Yoruba Nigerian Sign Language (NSL)     1\n",
       "Name: count, Length: 76, dtype: int64"
      ]
     },
     "execution_count": 34,
     "metadata": {},
     "output_type": "execute_result"
    }
   ],
   "source": [
    "df['Languages you use comfortably'].value_counts()"
   ]
  },
  {
   "cell_type": "code",
   "execution_count": 35,
   "id": "faf35810-243f-405d-a873-8f3e99886c3f",
   "metadata": {
    "tags": []
   },
   "outputs": [],
   "source": [
    "df['Languages you use comfortably']=df['Languages you use comfortably'].replace(['NSL','sign language'],'Sign language')"
   ]
  },
  {
   "cell_type": "code",
   "execution_count": 36,
   "id": "761a4f4e-a8fe-444b-8205-ecaa1ce78a33",
   "metadata": {
    "tags": []
   },
   "outputs": [
    {
     "data": {
      "text/plain": [
       "Languages you use comfortably\n",
       "Verbal                                         62\n",
       "Sign language                                  40\n",
       "Nigeria language                                6\n",
       "English Language                                5\n",
       "ASL                                             5\n",
       "                                               ..\n",
       "Sign language/English                           1\n",
       "Sign language and english                       1\n",
       "America Sign Language                           1\n",
       "English/Nigeria                                 1\n",
       "English Yoruba Nigerian Sign Language (NSL)     1\n",
       "Name: count, Length: 74, dtype: int64"
      ]
     },
     "execution_count": 36,
     "metadata": {},
     "output_type": "execute_result"
    }
   ],
   "source": [
    "df['Languages you use comfortably'].value_counts()"
   ]
  },
  {
   "cell_type": "code",
   "execution_count": 37,
   "id": "5161ff4c-359d-4844-ae3d-1a4f88734c8a",
   "metadata": {
    "tags": []
   },
   "outputs": [],
   "source": [
    "df['Languages you use comfortably']=df['Languages you use comfortably'].replace(['ASL','America Sign Language'],'Sign language')"
   ]
  },
  {
   "cell_type": "code",
   "execution_count": 38,
   "id": "51aa075a-89cc-4225-859c-d6a6f35cc0d9",
   "metadata": {
    "tags": []
   },
   "outputs": [
    {
     "data": {
      "text/plain": [
       "Languages you use comfortably\n",
       "Verbal                                         62\n",
       "Sign language                                  46\n",
       "Nigeria language                                6\n",
       "English Language                                5\n",
       "Hausa                                           4\n",
       "                                               ..\n",
       "English, Hausa, Fulani                          1\n",
       "Nigeria Sign Language                           1\n",
       "Hausa, English and Asl                          1\n",
       "Sign language/English                           1\n",
       "English Yoruba Nigerian Sign Language (NSL)     1\n",
       "Name: count, Length: 72, dtype: int64"
      ]
     },
     "execution_count": 38,
     "metadata": {},
     "output_type": "execute_result"
    }
   ],
   "source": [
    "df['Languages you use comfortably'].value_counts()"
   ]
  },
  {
   "cell_type": "code",
   "execution_count": 42,
   "id": "e0732f09-aa36-4123-97d1-cd0ea06a2e8c",
   "metadata": {
    "tags": []
   },
   "outputs": [],
   "source": [
    "df['Languages you use comfortably']=df['Languages you use comfortably'].replace(['Nigeria language','Hausa','English, Hausa, Fulani'],'Verbal')"
   ]
  },
  {
   "cell_type": "code",
   "execution_count": 43,
   "id": "0d5802f3-190f-45cd-ab90-78444f7a03ad",
   "metadata": {
    "tags": []
   },
   "outputs": [
    {
     "data": {
      "text/plain": [
       "Languages you use comfortably\n",
       "Verbal                                         73\n",
       "Sign language                                  46\n",
       "English Language                                5\n",
       "Sign Language                                   3\n",
       "English / Hausa                                 3\n",
       "                                               ..\n",
       "nigeria language                                1\n",
       "Hausa, English and Asl                          1\n",
       "English, Hausa and Sign language                1\n",
       "Sign language/English                           1\n",
       "English Yoruba Nigerian Sign Language (NSL)     1\n",
       "Name: count, Length: 69, dtype: int64"
      ]
     },
     "execution_count": 43,
     "metadata": {},
     "output_type": "execute_result"
    }
   ],
   "source": [
    "df['Languages you use comfortably'].value_counts()"
   ]
  },
  {
   "cell_type": "code",
   "execution_count": 44,
   "id": "0a07d545-fa5e-47fb-9d00-76444995d4b0",
   "metadata": {
    "tags": []
   },
   "outputs": [],
   "source": [
    "df['Languages you use comfortably']=df['Languages you use comfortably'].replace(['nigeria language','English / Hausa','English Language'],'Verbal')"
   ]
  },
  {
   "cell_type": "code",
   "execution_count": 45,
   "id": "576c9456-4bdf-47b8-bd02-c6083009869e",
   "metadata": {
    "tags": []
   },
   "outputs": [
    {
     "data": {
      "text/plain": [
       "Languages you use comfortably\n",
       "Verbal                                         82\n",
       "Sign language                                  46\n",
       "Sign Language                                   3\n",
       "Language                                        2\n",
       "Sign Language and English                       2\n",
       "                                               ..\n",
       "English/Hausa                                   1\n",
       "Hausa, English and Asl                          1\n",
       "Sign language/English                           1\n",
       "Sign language and english                       1\n",
       "English Yoruba Nigerian Sign Language (NSL)     1\n",
       "Name: count, Length: 66, dtype: int64"
      ]
     },
     "execution_count": 45,
     "metadata": {},
     "output_type": "execute_result"
    }
   ],
   "source": [
    "df['Languages you use comfortably'].value_counts()"
   ]
  },
  {
   "cell_type": "code",
   "execution_count": 46,
   "id": "ae4d5878-d650-4022-98ca-157444c3b2ec",
   "metadata": {
    "tags": []
   },
   "outputs": [],
   "source": [
    "df['Languages you use comfortably']=df['Languages you use comfortably'].replace(['Sign Language'],'Sign language')"
   ]
  },
  {
   "cell_type": "code",
   "execution_count": 47,
   "id": "b37805bf-79f1-44ad-8151-f71260fc162c",
   "metadata": {
    "tags": []
   },
   "outputs": [
    {
     "data": {
      "text/plain": [
       "Languages you use comfortably\n",
       "Verbal                                         82\n",
       "Sign language                                  49\n",
       "Language                                        2\n",
       "Sign Language and English                       2\n",
       "English and Yoruba                              2\n",
       "                                               ..\n",
       "English/Hausa                                   1\n",
       "Hausa, English and Asl                          1\n",
       "Sign language/English                           1\n",
       "Sign language and english                       1\n",
       "English Yoruba Nigerian Sign Language (NSL)     1\n",
       "Name: count, Length: 65, dtype: int64"
      ]
     },
     "execution_count": 47,
     "metadata": {},
     "output_type": "execute_result"
    }
   ],
   "source": [
    "df['Languages you use comfortably'].value_counts()"
   ]
  },
  {
   "cell_type": "code",
   "execution_count": 48,
   "id": "3d27170e-7a79-4cf4-9326-f4449185ff0f",
   "metadata": {
    "tags": []
   },
   "outputs": [],
   "source": [
    "df['Languages you use comfortably']=df['Languages you use comfortably'].replace(['English and Yoruba','English/Hausa'],'Verbal')"
   ]
  },
  {
   "cell_type": "code",
   "execution_count": 49,
   "id": "03dfd1a8-732c-466a-9779-0f485704fb81",
   "metadata": {
    "tags": []
   },
   "outputs": [
    {
     "data": {
      "text/plain": [
       "Languages you use comfortably\n",
       "Verbal                                         85\n",
       "Sign language                                  49\n",
       "Language                                        2\n",
       "Sign Language and English                       2\n",
       "English Sign language                           2\n",
       "                                               ..\n",
       "Hausa, English, and arabic                      1\n",
       "Hausa, English and Asl                          1\n",
       "Sign language/English                           1\n",
       "Sign language and english                       1\n",
       "English Yoruba Nigerian Sign Language (NSL)     1\n",
       "Name: count, Length: 63, dtype: int64"
      ]
     },
     "execution_count": 49,
     "metadata": {},
     "output_type": "execute_result"
    }
   ],
   "source": [
    "df['Languages you use comfortably'].value_counts()"
   ]
  },
  {
   "cell_type": "code",
   "execution_count": 50,
   "id": "ad6e231d-77f4-4e58-acf5-01b2cbcd0d5c",
   "metadata": {
    "tags": []
   },
   "outputs": [],
   "source": [
    "df['Languages you use comfortably']=df['Languages you use comfortably'].replace(['Sign Language and English','Hausa, English and Asl','Sign language and english','Sign language/English','English Yoruba Nigerian Sign Language (NSL)'],'Verbal/Sign')"
   ]
  },
  {
   "cell_type": "code",
   "execution_count": 60,
   "id": "9447b5b3-1314-49d1-a7c7-04d582ec36de",
   "metadata": {
    "tags": []
   },
   "outputs": [
    {
     "data": {
      "text/plain": [
       "Languages you use comfortably\n",
       "Verbal           105\n",
       "Sign language     71\n",
       "Verbal/Sign       29\n",
       "Name: count, dtype: int64"
      ]
     },
     "execution_count": 60,
     "metadata": {},
     "output_type": "execute_result"
    }
   ],
   "source": [
    "df['Languages you use comfortably'].value_counts()"
   ]
  },
  {
   "cell_type": "code",
   "execution_count": 52,
   "id": "f221b86d-0f32-4cde-b71c-00604002508d",
   "metadata": {
    "tags": []
   },
   "outputs": [],
   "source": [
    "df['Languages you use comfortably']=df['Languages you use comfortably'].replace(['Hausa and English language',\n",
    "'Hausa and English',\n",
    "'english',\n",
    "'English and Igbo languages',\n",
    "'Adara',\n",
    "'Berom and Hausa',\n",
    "'ENGLISH LANGUAGE',\n",
    "'Hausa, English, and arabic',\n",
    "'English, Yoruba',\n",
    "'Hausa, Fulani, and English',\n",
    "'English and Hausa Language',\n",
    "'Hausa/English',\n",
    "'English/hausa',\n",
    "'Hausa / English Language',\n",
    "'English/ Hausa',\n",
    "'English/Nigeria'\n",
    "],'Verbal')\n"
   ]
  },
  {
   "cell_type": "code",
   "execution_count": 54,
   "id": "f1449d07-cc16-4ff5-94ce-0335fcccc4a5",
   "metadata": {
    "tags": []
   },
   "outputs": [],
   "source": [
    "df['Languages you use comfortably']=df['Languages you use comfortably'].replace(['English and sign language',\n",
    "'NSL and English',\n",
    "'English language (sign language',\n",
    "'English, sign language',\n",
    "'English Hausa Fulani Sign language',\n",
    "'Hausa English Sign Language',\n",
    "'Engl, Yoruba, Sign language',\n",
    "'English language/Sign language',\n",
    "'English language/Sign language',\n",
    "'English language, sign language',\n",
    "'ASL and English and sign language',\n",
    "'English language Sign language Hausa language',\n",
    "'English language and sign language and hausa',\n",
    "'English language and Sign language',\n",
    "'NSL and English language',\n",
    "'english language and sign language',\n",
    "'ASL, nigeria language',\n",
    "'English language and NSL',\n",
    "'English, Hausa and Sign language',\n",
    "'Languages',\n",
    "'Language'\n",
    "],'Verbal/Sign')"
   ]
  },
  {
   "cell_type": "code",
   "execution_count": 56,
   "id": "8900c300-53bb-4c94-9c5e-e35ebe86542c",
   "metadata": {
    "tags": []
   },
   "outputs": [],
   "source": [
    "df['Languages you use comfortably']=df['Languages you use comfortably'].replace(['English Sign language',\n",
    "'English sign language for the deaf',\n",
    "'English language of sign language',\n",
    "'English sign language',\n",
    "'Nigerian Sign Language.',\n",
    "'English Sign Languages',\n",
    "'Sign Language-English',\n",
    "'Nsl',\n",
    "'English Sign Language',\n",
    "'English (ASL)',\n",
    "'English Tiv Sign Language',\n",
    "'Nigerian sign language/ SEE',\n",
    "'Nigerian Sign Language (NSL) written in English Language',\n",
    "'Nigeria Sign Language',\n",
    "'ASL/NSL',\n",
    "'English Language (sign language)',\n",
    "'A.S.L and N.S.L',\n",
    "'Sign language communication'\n",
    "],'Sign language')"
   ]
  },
  {
   "cell_type": "code",
   "execution_count": 58,
   "id": "f9db6a35-c9e2-4869-8386-1882a07680c3",
   "metadata": {
    "tags": []
   },
   "outputs": [],
   "source": [
    "df['Languages you use comfortably']=df['Languages you use comfortably'].replace(['English language and sign language'],'Verbal/Sign')"
   ]
  },
  {
   "cell_type": "code",
   "execution_count": 59,
   "id": "1f3f6c48-d5f7-4be5-8d93-29109dfd1bc4",
   "metadata": {
    "tags": []
   },
   "outputs": [],
   "source": [
    "df['Languages you use comfortably']=df['Languages you use comfortably'].replace(['Ibo'],'Verbal')\n"
   ]
  },
  {
   "cell_type": "code",
   "execution_count": 74,
   "id": "d578df15-66ee-45bf-940e-fb51e8ff4ef9",
   "metadata": {},
   "outputs": [
    {
     "data": {
      "text/plain": [
       "Best contact method for communication\n",
       "whatsapp                                             16\n",
       "sign language                                        15\n",
       "Sign language                                        15\n",
       "text                                                  8\n",
       "Whatsapp and Facebook                                 7\n",
       "                                                     ..\n",
       "text sms, whatsapp and email                          1\n",
       "Facebook, email, whatsapp, and telegram               1\n",
       "Hausa language, english language, and lip reading     1\n",
       "sign language and writing                             1\n",
       "English                                               1\n",
       "Name: count, Length: 115, dtype: int64"
      ]
     },
     "execution_count": 74,
     "metadata": {},
     "output_type": "execute_result"
    }
   ],
   "source": [
    "df['Best contact method for communication'].value_counts()"
   ]
  },
  {
   "cell_type": "code",
   "execution_count": 75,
   "id": "8022e4fe-1435-4e44-b0c4-1841bf571a3a",
   "metadata": {
    "tags": []
   },
   "outputs": [],
   "source": [
    "pd.set_option('display.max_rows', None)"
   ]
  },
  {
   "cell_type": "code",
   "execution_count": 76,
   "id": "39db1682-eb9f-43c3-85aa-eb9aabb3ef18",
   "metadata": {
    "tags": []
   },
   "outputs": [
    {
     "data": {
      "text/plain": [
       "Best contact method for communication\n",
       "whatsapp                                                                                 16\n",
       "sign language                                                                            15\n",
       "Sign language                                                                            15\n",
       "text                                                                                      8\n",
       "Whatsapp and Facebook                                                                     7\n",
       "Text message                                                                              7\n",
       "text message                                                                              6\n",
       "WhatsApp                                                                                  5\n",
       "email                                                                                     5\n",
       "NSL                                                                                       4\n",
       "facebook                                                                                  4\n",
       "Sign Language                                                                             3\n",
       "Email                                                                                     3\n",
       "Facebook                                                                                  3\n",
       "message text                                                                              3\n",
       "Whatsapp                                                                                  3\n",
       "sign language method                                                                      2\n",
       "messenger/ my email                                                                       2\n",
       "facebook and whatsapp                                                                     2\n",
       "Text                                                                                      2\n",
       "text message, whatsapp, and facebook                                                      2\n",
       "Sign Language Interpreter                                                                 1\n",
       "sign language through deaf people, writing                                                1\n",
       "Sign language and oral reading                                                            1\n",
       "sms, email, whatsapp, instagram                                                           1\n",
       "Whatsapp and sign language                                                                1\n",
       "Yoruba and English Language                                                               1\n",
       "NSL: Nigerian Sign Language                                                               1\n",
       "NSL: NIGERIAN sign language                                                               1\n",
       "video call                                                                                1\n",
       "video conference                                                                          1\n",
       "to use the WhatsApp                                                                       1\n",
       "modest grammar school Body Ibaday                                                         1\n",
       "WhatsApp and email                                                                        1\n",
       "Nigeria Sign language                                                                     1\n",
       "sign language, written communication and a little bit of speaking                         1\n",
       "E-mail and SMS                                                                            1\n",
       "Email, Facebook, Whatsapp, Telegram                                                       1\n",
       "SIGN LANGUAGE BOTH ASL AND HAUSA SIGN LANGUAGE                                            1\n",
       "social media and email                                                                    1\n",
       "sign languages                                                                            1\n",
       "Sign language both Hausa and ASL                                                          1\n",
       "E-mail/whatsapp                                                                           1\n",
       "Sign language through communication                                                       1\n",
       "English, sign language, hausa                                                             1\n",
       "E-mail                                                                                    1\n",
       "Sign Language Writing Lip reading                                                         1\n",
       "Sign Language/email                                                                       1\n",
       "Text messages                                                                             1\n",
       "WhatsApp, E-mail                                                                          1\n",
       "Text, whatsApp and Email                                                                  1\n",
       "Hausa                                                                                     1\n",
       "WhatsApp, Email, FB Messenger                                                             1\n",
       "Whatsapp chats.                                                                           1\n",
       "WhatsApp and SMS                                                                          1\n",
       "Language                                                                                  1\n",
       "Sign languages                                                                            1\n",
       "WhatsApp Email Facebook Text messages                                                     1\n",
       "lip reading, sign language                                                                1\n",
       "Sms                                                                                       1\n",
       "Through sign language                                                                     1\n",
       "WhatsApp, Email                                                                           1\n",
       "Sing language                                                                             1\n",
       "WhatsApp, Telegram and Facebook                                                           1\n",
       "WhatsApp Email                                                                            1\n",
       "Sign language, oral reading, writing                                                      1\n",
       "whatsapp/phone                                                                            1\n",
       "Facebook and email                                                                        1\n",
       "Message/Facebook                                                                          1\n",
       "whatsapp and text message                                                                 1\n",
       "Social Media, whatsapp                                                                    1\n",
       "english language and sign language                                                        1\n",
       "Language, english in signing                                                              1\n",
       "email, sms, whatsapp, fb                                                                  1\n",
       "Yoruba and English language                                                               1\n",
       "text message and whatsapp                                                                 1\n",
       "sms/text message                                                                          1\n",
       "whatsapp and sign language                                                                1\n",
       "video communication                                                                       1\n",
       "writing, video chatting, text and whatsapp                                                1\n",
       "message, sign language, whatsapp, facebook                                                1\n",
       "WhatsApp Messenger                                                                        1\n",
       "video call, tet message, whatapp, eyes to contact the sign language for understanding     1\n",
       "eye can see sign language                                                                 1\n",
       "Facebook, email, whatsapp                                                                 1\n",
       "video call text message whatsapp sign language                                            1\n",
       "facebook, whatsapp, telegram, etc                                                         1\n",
       "text sms                                                                                  1\n",
       "whatsapp, facebook, message and telegram                                                  1\n",
       "whatsapp messaging                                                                        1\n",
       "Whatsapp, Message fu book 2 go                                                            1\n",
       "facebook/whatsapp                                                                         1\n",
       "sign                                                                                      1\n",
       "phone                                                                                     1\n",
       "sign language and SMS (whatsapp)                                                          1\n",
       "whatapp and Facebook                                                                      1\n",
       "text, whatsapp, and sms                                                                   1\n",
       "social media, whatsapp and facebook                                                       1\n",
       "telecommunication and message phone                                                       1\n",
       "sign language, WhatsApp, Facebook messenger, and writing                                  1\n",
       "sign language and gesturing                                                               1\n",
       "through text message                                                                      1\n",
       "Languages                                                                                 1\n",
       "Message phone                                                                             1\n",
       "signing language, verbal communication                                                    1\n",
       "Whatsapp, Facebook, Messager, and Telegram                                                1\n",
       "telephone called                                                                          1\n",
       "whatsapp, facebook, telegram                                                              1\n",
       "whatsapp, message, facebook, 2go                                                          1\n",
       "Social media and email                                                                    1\n",
       "text sms, whatsapp and email                                                              1\n",
       "Facebook, email, whatsapp, and telegram                                                   1\n",
       "Hausa language, english language, and lip reading                                         1\n",
       "sign language and writing                                                                 1\n",
       "English                                                                                   1\n",
       "Name: count, dtype: int64"
      ]
     },
     "execution_count": 76,
     "metadata": {},
     "output_type": "execute_result"
    }
   ],
   "source": [
    "df['Best contact method for communication'].value_counts()"
   ]
  },
  {
   "cell_type": "code",
   "execution_count": 77,
   "id": "ad1c7675-0782-4c03-956a-10611d5458c8",
   "metadata": {
    "tags": []
   },
   "outputs": [
    {
     "data": {
      "text/plain": [
       "Which tribal affiliation do you identify with?\n",
       "Igbo                                           35\n",
       "Yoruba                                         27\n",
       "Hausa                                          17\n",
       "Fulani                                         11\n",
       "hausa                                          10\n",
       "Bini                                           10\n",
       "yoruba                                          8\n",
       "Tiv                                             4\n",
       "Edo                                             4\n",
       "igbo                                            3\n",
       "bini                                            2\n",
       "Isoko                                           2\n",
       "esan                                            2\n",
       "deaf                                            2\n",
       "Yourba                                          2\n",
       "Edol Essan                                      2\n",
       "Urhobo                                          2\n",
       "Hausa and Fulani                                2\n",
       "Nupe                                            2\n",
       "IGBO                                            2\n",
       "Gbagyi                                          2\n",
       "bachama                                         2\n",
       "fulani                                          2\n",
       "Hausa/Fulani                                    2\n",
       "edo                                             1\n",
       "HAUSA                                           1\n",
       "Hausa language                                  1\n",
       "Hausa trial                                     1\n",
       "Benin/Yoruba (half caste)                       1\n",
       "Yoruba and Fulani                               1\n",
       "Igala                                           1\n",
       "English                                         1\n",
       "Yooba                                           1\n",
       "margi                                           1\n",
       "Idoma                                           1\n",
       "Yoruba language                                 1\n",
       "edo state                                       1\n",
       "Yoruba / English                                1\n",
       "Ibo                                             1\n",
       "My email                                        1\n",
       "Berom and Hausa                                 1\n",
       "Ibibio                                          1\n",
       "Ron from bokkos local govt of plateau state     1\n",
       "Waja                                            1\n",
       "Obibi                                           1\n",
       "Hausa Fulani                                    1\n",
       "Sanga/Gbagyi                                    1\n",
       "hausa tribe                                     1\n",
       "kunini                                          1\n",
       "itsekiri and benin                              1\n",
       "hausa language                                  1\n",
       "chamba                                          1\n",
       "mbula                                           1\n",
       "igloo, haghase, hongange                        1\n",
       "marighi                                         1\n",
       "Higgig and Kammie                               1\n",
       "maxabilla                                       1\n",
       "F                                               1\n",
       "Higgi / Kamoe                                   1\n",
       "Bachama                                         1\n",
       "non                                             1\n",
       "Esan                                            1\n",
       "I am from edo state benin                       1\n",
       "Benin people of edo state                       1\n",
       "Benin city                                      1\n",
       "Benin                                           1\n",
       "tapa                                            1\n",
       "Hoba, Kilba                                     1\n",
       "hausa and fulani                                1\n",
       "Igbo south east                                 1\n",
       "Igbo, yoruba, and hausa                         1\n",
       "hibo                                            1\n",
       "am affliated to deaf and dumb                   1\n",
       "I am a Bini female                              1\n",
       "English hausa                                   1\n",
       "Hausa /Fulani                                   1\n",
       "hausa / English                                 1\n",
       "F/H                                             1\n",
       "Yoruba tribal                                   1\n",
       "Name: count, dtype: int64"
      ]
     },
     "execution_count": 77,
     "metadata": {},
     "output_type": "execute_result"
    }
   ],
   "source": [
    "df['Which tribal affiliation do you identify with?'].value_counts()"
   ]
  },
  {
   "cell_type": "code",
   "execution_count": 78,
   "id": "411a6069-a5cd-4132-bee4-1a8e84701a2e",
   "metadata": {
    "tags": []
   },
   "outputs": [
    {
     "data": {
      "text/plain": [
       "Current occupation status\n",
       "Government employee        82\n",
       "Self-employed              63\n",
       "Unemployed                 33\n",
       "Private sector employee    25\n",
       "Student                    12\n",
       "Retired                     4\n",
       "Name: count, dtype: int64"
      ]
     },
     "execution_count": 78,
     "metadata": {},
     "output_type": "execute_result"
    }
   ],
   "source": [
    "df['Current occupation status'].value_counts()"
   ]
  },
  {
   "cell_type": "code",
   "execution_count": 80,
   "id": "2c2524a4-ab66-405b-829c-d0c5fba81cab",
   "metadata": {
    "tags": []
   },
   "outputs": [
    {
     "data": {
      "text/plain": [
       "Education\n",
       "College of Education                      56\n",
       "University (Bachelor degree)              55\n",
       "High school or vocational                 41\n",
       "Polytechnic                               16\n",
       "University (Master degree)                12\n",
       "Primary school (or can read and write)    11\n",
       "Institute (2 years)                       11\n",
       "Junior school                             10\n",
       "Illiterate                                 7\n",
       "PhD or equivalent                          1\n",
       "Name: count, dtype: int64"
      ]
     },
     "execution_count": 80,
     "metadata": {},
     "output_type": "execute_result"
    }
   ],
   "source": [
    "df['Education'].value_counts()"
   ]
  },
  {
   "cell_type": "code",
   "execution_count": 81,
   "id": "4b4cf6e9-fe09-4a98-acc6-8476b13e396e",
   "metadata": {
    "tags": []
   },
   "outputs": [
    {
     "data": {
      "text/plain": [
       "Do you have access to clean water?\n",
       "Sometimes       83\n",
       "Always          55\n",
       "Frequently      43\n",
       "Never           34\n",
       "Infrequently    10\n",
       "Name: count, dtype: int64"
      ]
     },
     "execution_count": 81,
     "metadata": {},
     "output_type": "execute_result"
    }
   ],
   "source": [
    "df['Do you have access to clean water?'].value_counts()"
   ]
  },
  {
   "cell_type": "code",
   "execution_count": 82,
   "id": "87505584-72ee-4935-8f33-2863dc3814a0",
   "metadata": {
    "tags": []
   },
   "outputs": [
    {
     "data": {
      "text/plain": [
       "Do you have access to wash your hands?\n",
       "Always          110\n",
       "Sometimes        60\n",
       "Frequently       32\n",
       "Infrequently     12\n",
       "Never             5\n",
       "Name: count, dtype: int64"
      ]
     },
     "execution_count": 82,
     "metadata": {},
     "output_type": "execute_result"
    }
   ],
   "source": [
    "df['Do you have access to wash your hands?'].value_counts()"
   ]
  },
  {
   "cell_type": "code",
   "execution_count": 83,
   "id": "58dd937e-ba26-491b-80bb-fffea899157f",
   "metadata": {
    "tags": []
   },
   "outputs": [
    {
     "data": {
      "text/plain": [
       "Do you feel that what you eat supports your health needs?\n",
       "Fair         69\n",
       "Good         58\n",
       "Very Good    40\n",
       "Excellent    24\n",
       "Poor         23\n",
       "Name: count, dtype: int64"
      ]
     },
     "execution_count": 83,
     "metadata": {},
     "output_type": "execute_result"
    }
   ],
   "source": [
    "df['Do you feel that what you eat supports your health needs?'].value_counts()"
   ]
  },
  {
   "cell_type": "code",
   "execution_count": 84,
   "id": "f06dfddd-c492-44aa-bcc9-5a4ce050d45c",
   "metadata": {
    "tags": []
   },
   "outputs": [
    {
     "data": {
      "text/plain": [
       "How would you rate your quality of life?\n",
       "Good                     78\n",
       "Neither poor nor good    65\n",
       "Very Good                36\n",
       "Poor                     19\n",
       "Very Poor                10\n",
       "Name: count, dtype: int64"
      ]
     },
     "execution_count": 84,
     "metadata": {},
     "output_type": "execute_result"
    }
   ],
   "source": [
    "df['How would you rate your quality of life?'].value_counts()"
   ]
  },
  {
   "cell_type": "code",
   "execution_count": null,
   "id": "90ed67bc-7adc-4632-9add-ad71bdb3d35e",
   "metadata": {},
   "outputs": [],
<<<<<<< HEAD
   "source": [
    "Best contact method for communication"
   ]
=======
   "source": []
  },
  {
   "cell_type": "code",
   "execution_count": null,
   "id": "c5b03b26-0425-48d4-bfc6-87356e6ff4ce",
   "metadata": {},
   "outputs": [],
   "source": []
>>>>>>> b148582064ac7eee05d7093bfe9b8945975a4989
  }
 ],
 "metadata": {
  "kernelspec": {
   "display_name": "Python 3 (ipykernel)",
   "language": "python",
   "name": "python3"
  },
  "language_info": {
   "codemirror_mode": {
    "name": "ipython",
    "version": 3
   },
   "file_extension": ".py",
   "mimetype": "text/x-python",
   "name": "python",
   "nbconvert_exporter": "python",
   "pygments_lexer": "ipython3",
<<<<<<< Updated upstream
   "version": "3.11.3"
=======
   "version": "3.11.7"
>>>>>>> Stashed changes
  }
 },
 "nbformat": 4,
 "nbformat_minor": 5
}
