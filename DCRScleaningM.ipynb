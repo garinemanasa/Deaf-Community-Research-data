{
 "cells": [
  {
   "cell_type": "code",
   "execution_count": 1,
   "id": "e45a636e-2bcc-4b60-be87-64619a59ae03",
   "metadata": {
    "tags": []
   },
   "outputs": [
    {
     "name": "stdout",
     "output_type": "stream",
     "text": [
      "Welcome to DRCS project\n"
     ]
    }
   ],
   "source": [
    "print('Welcome to DRCS project')"
   ]
  },
  {
   "cell_type": "code",
   "execution_count": null,
   "id": "e494d521-ae62-4151-af65-6e5e7ecc498d",
   "metadata": {},
   "outputs": [],
   "source": []
  }
 ],
 "metadata": {
  "kernelspec": {
   "display_name": "Python 3 (ipykernel)",
   "language": "python",
   "name": "python3"
  },
  "language_info": {
   "codemirror_mode": {
    "name": "ipython",
    "version": 3
   },
   "file_extension": ".py",
   "mimetype": "text/x-python",
   "name": "python",
   "nbconvert_exporter": "python",
   "pygments_lexer": "ipython3",
   "version": "3.11.3"
  }
 },
 "nbformat": 4,
 "nbformat_minor": 5
}
